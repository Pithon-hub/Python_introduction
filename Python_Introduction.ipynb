{
  "nbformat": 4,
  "nbformat_minor": 0,
  "metadata": {
    "colab": {
      "provenance": [],
      "authorship_tag": "ABX9TyP7m7M3dUw5fnDPmzt6+ygS",
      "include_colab_link": true
    },
    "kernelspec": {
      "name": "python3",
      "display_name": "Python 3"
    },
    "language_info": {
      "name": "python"
    }
  },
  "cells": [
    {
      "cell_type": "markdown",
      "metadata": {
        "id": "view-in-github",
        "colab_type": "text"
      },
      "source": [
        "<a href=\"https://colab.research.google.com/github/Pithon-hub/Python_introduction/blob/main/Python_Introduction.ipynb\" target=\"_parent\"><img src=\"https://colab.research.google.com/assets/colab-badge.svg\" alt=\"Open In Colab\"/></a>"
      ]
    },
    {
      "cell_type": "code",
      "execution_count": null,
      "metadata": {
        "colab": {
          "base_uri": "https://localhost:8080/"
        },
        "id": "qcDFiFeL9Dzw",
        "outputId": "ec61c6bc-0bb8-4faf-889b-9ea203a31039"
      },
      "outputs": [
        {
          "output_type": "stream",
          "name": "stdout",
          "text": [
            "Hello World!!!\n"
          ]
        }
      ],
      "source": [
        "print(\"Hello World!!!\")"
      ]
    },
    {
      "cell_type": "code",
      "source": [
        "1+1"
      ],
      "metadata": {
        "colab": {
          "base_uri": "https://localhost:8080/"
        },
        "id": "R-nHIPKfAION",
        "outputId": "8280e02e-3cd3-4e0b-da77-372aa59f48e2"
      },
      "execution_count": null,
      "outputs": [
        {
          "output_type": "execute_result",
          "data": {
            "text/plain": [
              "2"
            ]
          },
          "metadata": {},
          "execution_count": 3
        }
      ]
    },
    {
      "cell_type": "code",
      "source": [
        "4/2"
      ],
      "metadata": {
        "colab": {
          "base_uri": "https://localhost:8080/"
        },
        "id": "UXunM9UAANKh",
        "outputId": "9e17b286-bb20-4614-cdc6-61926e1f6ca4"
      },
      "execution_count": null,
      "outputs": [
        {
          "output_type": "execute_result",
          "data": {
            "text/plain": [
              "2.0"
            ]
          },
          "metadata": {},
          "execution_count": 4
        }
      ]
    },
    {
      "cell_type": "code",
      "source": [
        "def addition():\n",
        "  print(1+1)"
      ],
      "metadata": {
        "id": "jzSR4njiEevm"
      },
      "execution_count": null,
      "outputs": []
    },
    {
      "cell_type": "code",
      "source": [
        "addition()"
      ],
      "metadata": {
        "colab": {
          "base_uri": "https://localhost:8080/"
        },
        "id": "VE3VVuJHEyxi",
        "outputId": "1c04d75d-76c2-43ab-b2d2-9aa5e442df38"
      },
      "execution_count": null,
      "outputs": [
        {
          "output_type": "stream",
          "name": "stdout",
          "text": [
            "2\n"
          ]
        }
      ]
    },
    {
      "cell_type": "code",
      "source": [
        "def addition_v1(num_1,num_2):\n",
        "  return num_1+num_2"
      ],
      "metadata": {
        "id": "DnqnSvE8FP5d"
      },
      "execution_count": null,
      "outputs": []
    },
    {
      "cell_type": "code",
      "source": [],
      "metadata": {
        "id": "BLECwM8eV4xp"
      },
      "execution_count": null,
      "outputs": []
    },
    {
      "cell_type": "code",
      "source": [
        "addition_v1(10,10)"
      ],
      "metadata": {
        "colab": {
          "base_uri": "https://localhost:8080/"
        },
        "id": "SlRpayVsG9Ol",
        "outputId": "27fb7819-251d-44aa-ab66-e37ea3941193"
      },
      "execution_count": null,
      "outputs": [
        {
          "output_type": "stream",
          "name": "stdout",
          "text": [
            "20\n"
          ]
        }
      ]
    },
    {
      "cell_type": "code",
      "source": [
        "def addition_v2(a,b):\n",
        "  print((a+b)/100)\n"
      ],
      "metadata": {
        "id": "KdCvaWOuHccO"
      },
      "execution_count": null,
      "outputs": []
    },
    {
      "cell_type": "code",
      "source": [
        "addition_v2(100,100)"
      ],
      "metadata": {
        "colab": {
          "base_uri": "https://localhost:8080/"
        },
        "id": "OFOn7Jh0H5a0",
        "outputId": "cd3f544a-f998-4761-b8d0-0acc733d0835"
      },
      "execution_count": null,
      "outputs": [
        {
          "output_type": "stream",
          "name": "stdout",
          "text": [
            "2.0\n"
          ]
        }
      ]
    },
    {
      "cell_type": "code",
      "source": [
        "a=1"
      ],
      "metadata": {
        "id": "fESbD7hjV9Fx"
      },
      "execution_count": null,
      "outputs": []
    },
    {
      "cell_type": "code",
      "source": [
        "print(a)"
      ],
      "metadata": {
        "colab": {
          "base_uri": "https://localhost:8080/"
        },
        "id": "LR22ffGmV_nC",
        "outputId": "647fec5d-81c0-4cf3-a54f-25456dd5b875"
      },
      "execution_count": null,
      "outputs": [
        {
          "output_type": "stream",
          "name": "stdout",
          "text": [
            "1\n"
          ]
        }
      ]
    },
    {
      "cell_type": "code",
      "source": [
        "a=10"
      ],
      "metadata": {
        "id": "xkuEQzbmWDFw"
      },
      "execution_count": null,
      "outputs": []
    },
    {
      "cell_type": "code",
      "source": [
        "a+5"
      ],
      "metadata": {
        "colab": {
          "base_uri": "https://localhost:8080/"
        },
        "id": "zfXldKycWt6H",
        "outputId": "30c6492e-48af-46bc-f5db-1ef15c2fb0f2"
      },
      "execution_count": null,
      "outputs": [
        {
          "output_type": "execute_result",
          "data": {
            "text/plain": [
              "105"
            ]
          },
          "metadata": {},
          "execution_count": 25
        }
      ]
    },
    {
      "cell_type": "code",
      "source": [
        "a=100"
      ],
      "metadata": {
        "id": "36_FWfoyWw6D"
      },
      "execution_count": null,
      "outputs": []
    },
    {
      "cell_type": "code",
      "source": [
        "def minus(a,b):\n",
        "  return a-b"
      ],
      "metadata": {
        "id": "BOtV-iSMWyHO"
      },
      "execution_count": null,
      "outputs": []
    },
    {
      "cell_type": "code",
      "source": [
        "minus(90,10)+1"
      ],
      "metadata": {
        "colab": {
          "base_uri": "https://localhost:8080/"
        },
        "id": "4CzUSYXxXn2q",
        "outputId": "f4858bff-714d-4c3c-fea3-14b1529482e7"
      },
      "execution_count": null,
      "outputs": [
        {
          "output_type": "execute_result",
          "data": {
            "text/plain": [
              "81"
            ]
          },
          "metadata": {},
          "execution_count": 34
        }
      ]
    },
    {
      "cell_type": "code",
      "source": [
        "temp_dif=minus(56,30)"
      ],
      "metadata": {
        "id": "0wmc2Gi6XwvR"
      },
      "execution_count": null,
      "outputs": []
    },
    {
      "cell_type": "code",
      "source": [
        "print(temp_dif)"
      ],
      "metadata": {
        "colab": {
          "base_uri": "https://localhost:8080/"
        },
        "id": "Ln58RjEzYg8B",
        "outputId": "74cff184-8f1b-41ac-c4a0-64acb7f8d167"
      },
      "execution_count": null,
      "outputs": [
        {
          "output_type": "stream",
          "name": "stdout",
          "text": [
            "26\n"
          ]
        }
      ]
    },
    {
      "cell_type": "code",
      "source": [
        "def grader(cat_1,cat_2,exam):\n",
        "  return (cat_1/100*20)+(cat_2/100*30)+(exam/100*50)"
      ],
      "metadata": {
        "id": "cqQLIKOrYkmk"
      },
      "execution_count": null,
      "outputs": []
    },
    {
      "cell_type": "code",
      "source": [
        "grader(50,60,70)"
      ],
      "metadata": {
        "colab": {
          "base_uri": "https://localhost:8080/"
        },
        "id": "-IgPHGxncvFp",
        "outputId": "025cde47-a69d-43fa-ff81-4b23c9fae047"
      },
      "execution_count": null,
      "outputs": [
        {
          "output_type": "execute_result",
          "data": {
            "text/plain": [
              "63.0"
            ]
          },
          "metadata": {},
          "execution_count": 41
        }
      ]
    },
    {
      "cell_type": "code",
      "source": [
        "our_total_grade= grader(90,70,20)"
      ],
      "metadata": {
        "id": "F-9QAc5Kc5bA"
      },
      "execution_count": null,
      "outputs": []
    },
    {
      "cell_type": "code",
      "source": [
        "print(our_total_grade)"
      ],
      "metadata": {
        "colab": {
          "base_uri": "https://localhost:8080/"
        },
        "id": "qJRiBJPaew4T",
        "outputId": "43d68745-fef7-4039-ea8a-30f0f15e66a9"
      },
      "execution_count": null,
      "outputs": [
        {
          "output_type": "stream",
          "name": "stdout",
          "text": [
            "49.0\n"
          ]
        }
      ]
    },
    {
      "cell_type": "code",
      "source": [
        "our_total_grade+20"
      ],
      "metadata": {
        "colab": {
          "base_uri": "https://localhost:8080/"
        },
        "id": "pu5WBVkSe2Rc",
        "outputId": "13b94a79-e70b-4c3a-9a82-a8c6b2a48f76"
      },
      "execution_count": null,
      "outputs": [
        {
          "output_type": "execute_result",
          "data": {
            "text/plain": [
              "69.0"
            ]
          },
          "metadata": {},
          "execution_count": 44
        }
      ]
    },
    {
      "cell_type": "code",
      "source": [
        "type(our_total_grade)"
      ],
      "metadata": {
        "colab": {
          "base_uri": "https://localhost:8080/"
        },
        "id": "_PjBTpfqe58R",
        "outputId": "93eea58b-6757-4470-cdfe-101602ff2918"
      },
      "execution_count": null,
      "outputs": [
        {
          "output_type": "execute_result",
          "data": {
            "text/plain": [
              "float"
            ]
          },
          "metadata": {},
          "execution_count": 45
        }
      ]
    },
    {
      "cell_type": "code",
      "source": [
        "int(our_total_grade)"
      ],
      "metadata": {
        "colab": {
          "base_uri": "https://localhost:8080/"
        },
        "id": "18uxyK7MhnNm",
        "outputId": "9cefb609-6309-4d68-b70d-a879b6621903"
      },
      "execution_count": null,
      "outputs": [
        {
          "output_type": "execute_result",
          "data": {
            "text/plain": [
              "49"
            ]
          },
          "metadata": {},
          "execution_count": 46
        }
      ]
    },
    {
      "cell_type": "code",
      "source": [
        "str(our_total_grade)"
      ],
      "metadata": {
        "colab": {
          "base_uri": "https://localhost:8080/",
          "height": 35
        },
        "id": "gOnBakh3iDEz",
        "outputId": "0d638245-a5a3-4265-8ba8-dc47a2608a76"
      },
      "execution_count": null,
      "outputs": [
        {
          "output_type": "execute_result",
          "data": {
            "text/plain": [
              "'49.0'"
            ],
            "application/vnd.google.colaboratory.intrinsic+json": {
              "type": "string"
            }
          },
          "metadata": {},
          "execution_count": 47
        }
      ]
    },
    {
      "cell_type": "code",
      "source": [
        "age= input(\"what is your age?\")"
      ],
      "metadata": {
        "colab": {
          "base_uri": "https://localhost:8080/"
        },
        "id": "axJgMZQtiJMa",
        "outputId": "0a277145-f097-4cd4-b40b-a696fa21f87d"
      },
      "execution_count": null,
      "outputs": [
        {
          "name": "stdout",
          "output_type": "stream",
          "text": [
            "what is your age?15\n"
          ]
        }
      ]
    },
    {
      "cell_type": "code",
      "source": [
        "print (age)"
      ],
      "metadata": {
        "colab": {
          "base_uri": "https://localhost:8080/"
        },
        "id": "OXESRPwXj0ht",
        "outputId": "0815902c-2f50-4e70-e8d3-1ae5b5454afb"
      },
      "execution_count": null,
      "outputs": [
        {
          "output_type": "stream",
          "name": "stdout",
          "text": [
            "15\n"
          ]
        }
      ]
    },
    {
      "cell_type": "code",
      "source": [
        "type(age)"
      ],
      "metadata": {
        "colab": {
          "base_uri": "https://localhost:8080/"
        },
        "id": "ERDkgRtGkCU0",
        "outputId": "ad608fe8-c607-42f1-c922-8e5628e21b92"
      },
      "execution_count": null,
      "outputs": [
        {
          "output_type": "execute_result",
          "data": {
            "text/plain": [
              "str"
            ]
          },
          "metadata": {},
          "execution_count": 52
        }
      ]
    },
    {
      "cell_type": "code",
      "source": [
        "float(age)"
      ],
      "metadata": {
        "colab": {
          "base_uri": "https://localhost:8080/"
        },
        "id": "FP6bbtd6kHBR",
        "outputId": "56ad2a5e-71e2-494c-db9d-e4e8ec6b61f2"
      },
      "execution_count": null,
      "outputs": [
        {
          "output_type": "execute_result",
          "data": {
            "text/plain": [
              "15.0"
            ]
          },
          "metadata": {},
          "execution_count": 53
        }
      ]
    },
    {
      "cell_type": "code",
      "source": [
        "age=float(age)"
      ],
      "metadata": {
        "id": "ONhuYbe7kUxk"
      },
      "execution_count": null,
      "outputs": []
    },
    {
      "cell_type": "code",
      "source": [
        "type(age)"
      ],
      "metadata": {
        "colab": {
          "base_uri": "https://localhost:8080/"
        },
        "id": "xxRdz_gokfJz",
        "outputId": "da014361-9d79-4767-893d-13e39d55f2fd"
      },
      "execution_count": null,
      "outputs": [
        {
          "output_type": "execute_result",
          "data": {
            "text/plain": [
              "float"
            ]
          },
          "metadata": {},
          "execution_count": 55
        }
      ]
    },
    {
      "cell_type": "code",
      "source": [
        "age=int(age)"
      ],
      "metadata": {
        "id": "pnMOScCEkhtO"
      },
      "execution_count": null,
      "outputs": []
    },
    {
      "cell_type": "code",
      "source": [
        "type(age)"
      ],
      "metadata": {
        "colab": {
          "base_uri": "https://localhost:8080/"
        },
        "id": "SZ3U8G9YknyL",
        "outputId": "8801c880-9b2c-48d9-bb20-3a1d492af569"
      },
      "execution_count": null,
      "outputs": [
        {
          "output_type": "execute_result",
          "data": {
            "text/plain": [
              "int"
            ]
          },
          "metadata": {},
          "execution_count": 57
        }
      ]
    },
    {
      "cell_type": "code",
      "source": [
        "name=input(\"what is your name?\")"
      ],
      "metadata": {
        "colab": {
          "base_uri": "https://localhost:8080/"
        },
        "id": "8kduUk4TkqOV",
        "outputId": "b1c67c82-9c38-4089-bcd3-3a16161668fb"
      },
      "execution_count": null,
      "outputs": [
        {
          "name": "stdout",
          "output_type": "stream",
          "text": [
            "what is your name?Pithon\n"
          ]
        }
      ]
    },
    {
      "cell_type": "code",
      "source": [
        "print(name)"
      ],
      "metadata": {
        "colab": {
          "base_uri": "https://localhost:8080/"
        },
        "id": "nyF3Ua3gk03X",
        "outputId": "35e46eac-0df1-434e-bc5f-159b247f7a3f"
      },
      "execution_count": null,
      "outputs": [
        {
          "output_type": "stream",
          "name": "stdout",
          "text": [
            "Pithon\n"
          ]
        }
      ]
    },
    {
      "cell_type": "code",
      "source": [
        "temp=input(\"what is the temperature outside?\")"
      ],
      "metadata": {
        "colab": {
          "base_uri": "https://localhost:8080/"
        },
        "id": "fX3W4Yd6k6Xc",
        "outputId": "3afa4cda-f701-42fb-c482-f08eaf43c8d3"
      },
      "execution_count": null,
      "outputs": [
        {
          "name": "stdout",
          "output_type": "stream",
          "text": [
            "what is the temperature outside?23\n"
          ]
        }
      ]
    },
    {
      "cell_type": "code",
      "source": [
        "type(temp)"
      ],
      "metadata": {
        "colab": {
          "base_uri": "https://localhost:8080/"
        },
        "id": "2RQkGVDTlQG9",
        "outputId": "47f37f8e-727b-4048-ef23-b91cff9eae44"
      },
      "execution_count": null,
      "outputs": [
        {
          "output_type": "execute_result",
          "data": {
            "text/plain": [
              "str"
            ]
          },
          "metadata": {},
          "execution_count": 3
        }
      ]
    },
    {
      "cell_type": "code",
      "source": [
        "temp=int(temp)"
      ],
      "metadata": {
        "id": "I-4cW2UhlVSj"
      },
      "execution_count": null,
      "outputs": []
    },
    {
      "cell_type": "code",
      "source": [
        "type(temp)"
      ],
      "metadata": {
        "colab": {
          "base_uri": "https://localhost:8080/"
        },
        "id": "ly21tCF-leXa",
        "outputId": "cb1ba4b8-f70c-42b5-e7e1-a8449c96b8c9"
      },
      "execution_count": null,
      "outputs": [
        {
          "output_type": "execute_result",
          "data": {
            "text/plain": [
              "int"
            ]
          },
          "metadata": {},
          "execution_count": 5
        }
      ]
    },
    {
      "cell_type": "code",
      "source": [
        "temp=int(input(\"what is the temp outside?\"))"
      ],
      "metadata": {
        "colab": {
          "base_uri": "https://localhost:8080/"
        },
        "id": "6qhRCaS5lgT1",
        "outputId": "beadd785-0a9b-41e1-dcfd-2e9172994e1a"
      },
      "execution_count": null,
      "outputs": [
        {
          "name": "stdout",
          "output_type": "stream",
          "text": [
            "what is the temp outside?23\n"
          ]
        }
      ]
    },
    {
      "cell_type": "code",
      "source": [
        "type(temp)"
      ],
      "metadata": {
        "colab": {
          "base_uri": "https://localhost:8080/"
        },
        "id": "6XAhncfbluol",
        "outputId": "dc905a81-657a-4d63-a22d-6e52ccc7d9b2"
      },
      "execution_count": null,
      "outputs": [
        {
          "output_type": "execute_result",
          "data": {
            "text/plain": [
              "int"
            ]
          },
          "metadata": {},
          "execution_count": 7
        }
      ]
    },
    {
      "cell_type": "code",
      "source": [
        "def grader_v2():\n",
        "  cat_1=int(input(\"what did you score in cat_1?\"))\n",
        "  cat_2=int(input(\"what did you score in cat_2?\"))\n",
        "  exam=int(input(\"what did you score in exam?\"))\n",
        "  return (cat_1/100*20)+(cat_2/100*30)+(exam/100*50)"
      ],
      "metadata": {
        "id": "FWjf80TYlyOQ"
      },
      "execution_count": null,
      "outputs": []
    },
    {
      "cell_type": "code",
      "source": [
        "grader_v2()"
      ],
      "metadata": {
        "colab": {
          "base_uri": "https://localhost:8080/"
        },
        "id": "sy3uMksXm5ke",
        "outputId": "00730a93-16c5-4e92-cb3a-c40ffc0ab5be"
      },
      "execution_count": null,
      "outputs": [
        {
          "name": "stdout",
          "output_type": "stream",
          "text": [
            "what did you score in cat_1?50\n",
            "what did you score in cat_2?60\n",
            "what did you score in exam?70\n"
          ]
        },
        {
          "output_type": "execute_result",
          "data": {
            "text/plain": [
              "63.0"
            ]
          },
          "metadata": {},
          "execution_count": 12
        }
      ]
    },
    {
      "cell_type": "code",
      "source": [
        "def add(num_1,num_2):\n",
        "  return(num_1+num_2)\n",
        "def sub(num_1,num_2):\n",
        "  return(num_1-num_2)\n",
        "def mul(num_1,num_2):\n",
        "  return(num_1*num_2)\n",
        "def div(num_1,num_2):\n",
        "  return(num_1/num_2)"
      ],
      "metadata": {
        "id": "kezol5LwZk60"
      },
      "execution_count": null,
      "outputs": []
    },
    {
      "cell_type": "code",
      "source": [
        "num_1=int(input(\"enter first number\"))\n",
        "num_2=int(input(\"enter second number\"))\n",
        "print(add(num_1,num_2))\n",
        "print(sub(num_1,num_2))\n",
        "print(mul(num_1,num_2))\n",
        "print(div(num_1,num_2))"
      ],
      "metadata": {
        "colab": {
          "base_uri": "https://localhost:8080/"
        },
        "id": "PkdBavsuaozh",
        "outputId": "4292ade1-1818-4874-c061-28dc9d0a6f94"
      },
      "execution_count": null,
      "outputs": [
        {
          "output_type": "stream",
          "name": "stdout",
          "text": [
            "enter first number12\n",
            "enter second number4\n",
            "16\n",
            "8\n",
            "48\n",
            "3.0\n"
          ]
        }
      ]
    },
    {
      "cell_type": "code",
      "source": [
        "def calculator():\n",
        "  num_1=int(input(\"enter the first number\"))\n",
        "  num_2=int(input(\"enter the second number\"))\n",
        "  operator=input(\"choose operator(+,-,*,/)\")\n",
        "  if operator ==\"+\":\n",
        "   return(num_1+num_2)\n",
        "  if operator ==\"-\":\n",
        "   return(num_1-num_2)\n",
        "  if operator ==\"*\":\n",
        "   return(num_1*num_2)\n",
        "  if operator ==\"/\":\n",
        "   return(num_1/num_2)\n",
        "\n"
      ],
      "metadata": {
        "id": "P31D3K2vtoKs"
      },
      "execution_count": null,
      "outputs": []
    },
    {
      "cell_type": "code",
      "source": [
        "calculator()"
      ],
      "metadata": {
        "colab": {
          "base_uri": "https://localhost:8080/"
        },
        "id": "ikHf_mgohJ9J",
        "outputId": "6cebe092-7f0d-436c-8f71-ef64aae8a2d3"
      },
      "execution_count": null,
      "outputs": [
        {
          "name": "stdout",
          "output_type": "stream",
          "text": [
            "enter the first number?12\n",
            "enter the second number?4\n",
            "choose operator(+,-,*,/)/\n"
          ]
        },
        {
          "output_type": "execute_result",
          "data": {
            "text/plain": [
              "3.0"
            ]
          },
          "metadata": {},
          "execution_count": 27
        }
      ]
    },
    {
      "cell_type": "code",
      "source": [
        "import math"
      ],
      "metadata": {
        "id": "mTvEEHJwhREy"
      },
      "execution_count": null,
      "outputs": []
    },
    {
      "cell_type": "code",
      "source": [
        "math.sqrt(4)"
      ],
      "metadata": {
        "colab": {
          "base_uri": "https://localhost:8080/"
        },
        "id": "i1LTZT0wRnY4",
        "outputId": "8a44ade7-041c-437d-ca2b-79a01d618c41"
      },
      "execution_count": null,
      "outputs": [
        {
          "output_type": "execute_result",
          "data": {
            "text/plain": [
              "2.0"
            ]
          },
          "metadata": {},
          "execution_count": 10
        }
      ]
    },
    {
      "cell_type": "code",
      "source": [
        "first_name=\"Pithon\"\n",
        "second_name=\"Mwangi\""
      ],
      "metadata": {
        "id": "ct0dk0pVRvT-"
      },
      "execution_count": null,
      "outputs": []
    },
    {
      "cell_type": "code",
      "source": [
        "first_name+\" \"+second_name"
      ],
      "metadata": {
        "colab": {
          "base_uri": "https://localhost:8080/",
          "height": 35
        },
        "id": "CB8QgvtiTSPt",
        "outputId": "54269ff7-aa44-4f5e-8d07-8dc380c7877d"
      },
      "execution_count": null,
      "outputs": [
        {
          "output_type": "execute_result",
          "data": {
            "text/plain": [
              "'Pithon Mwangi'"
            ],
            "application/vnd.google.colaboratory.intrinsic+json": {
              "type": "string"
            }
          },
          "metadata": {},
          "execution_count": 43
        }
      ]
    },
    {
      "cell_type": "code",
      "source": [
        "first_name*2"
      ],
      "metadata": {
        "colab": {
          "base_uri": "https://localhost:8080/",
          "height": 35
        },
        "id": "5iepLcI9TXkD",
        "outputId": "ce3306e8-eb51-47a5-c785-8f021be279ee"
      },
      "execution_count": null,
      "outputs": [
        {
          "output_type": "execute_result",
          "data": {
            "text/plain": [
              "'PithonPithon'"
            ],
            "application/vnd.google.colaboratory.intrinsic+json": {
              "type": "string"
            }
          },
          "metadata": {},
          "execution_count": 18
        }
      ]
    },
    {
      "cell_type": "code",
      "source": [
        "#this code returns the lenght of a string\n",
        "len(first_name)"
      ],
      "metadata": {
        "colab": {
          "base_uri": "https://localhost:8080/"
        },
        "id": "mOL2jB_-T6ro",
        "outputId": "a6328495-004d-4ffd-9bad-9b1e3389f0f7"
      },
      "execution_count": null,
      "outputs": [
        {
          "output_type": "execute_result",
          "data": {
            "text/plain": [
              "6"
            ]
          },
          "metadata": {},
          "execution_count": 20
        }
      ]
    },
    {
      "cell_type": "code",
      "source": [
        "first_name.upper()"
      ],
      "metadata": {
        "colab": {
          "base_uri": "https://localhost:8080/",
          "height": 35
        },
        "id": "7lLWekDvUNcm",
        "outputId": "1cbc558e-2386-4f78-f05b-420996752c61"
      },
      "execution_count": null,
      "outputs": [
        {
          "output_type": "execute_result",
          "data": {
            "text/plain": [
              "'PITHON'"
            ],
            "application/vnd.google.colaboratory.intrinsic+json": {
              "type": "string"
            }
          },
          "metadata": {},
          "execution_count": 24
        }
      ]
    },
    {
      "cell_type": "code",
      "source": [
        "first_name.lower()"
      ],
      "metadata": {
        "colab": {
          "base_uri": "https://localhost:8080/",
          "height": 35
        },
        "id": "tUw45p7JVuhs",
        "outputId": "08128670-19f2-4427-879c-10745ddbc5ba"
      },
      "execution_count": null,
      "outputs": [
        {
          "output_type": "execute_result",
          "data": {
            "text/plain": [
              "'pithon'"
            ],
            "application/vnd.google.colaboratory.intrinsic+json": {
              "type": "string"
            }
          },
          "metadata": {},
          "execution_count": 25
        }
      ]
    },
    {
      "cell_type": "code",
      "source": [
        "f_n=first_name.lower()"
      ],
      "metadata": {
        "id": "u9waZsbsV0pD"
      },
      "execution_count": null,
      "outputs": []
    },
    {
      "cell_type": "code",
      "source": [
        "print(f_n)"
      ],
      "metadata": {
        "colab": {
          "base_uri": "https://localhost:8080/"
        },
        "id": "NHAZKNZTWGBZ",
        "outputId": "d0f50b43-f310-4fb1-c19e-87a84d075810"
      },
      "execution_count": null,
      "outputs": [
        {
          "output_type": "stream",
          "name": "stdout",
          "text": [
            "pithon\n"
          ]
        }
      ]
    },
    {
      "cell_type": "code",
      "source": [
        "national_id=\"  421 59592 \"\n",
        "national_id.strip()"
      ],
      "metadata": {
        "colab": {
          "base_uri": "https://localhost:8080/",
          "height": 35
        },
        "id": "izzvJIoTWICf",
        "outputId": "d20593b6-2840-4fc5-9c52-de3917f1c705"
      },
      "execution_count": null,
      "outputs": [
        {
          "output_type": "execute_result",
          "data": {
            "text/plain": [
              "'421 59592'"
            ],
            "application/vnd.google.colaboratory.intrinsic+json": {
              "type": "string"
            }
          },
          "metadata": {},
          "execution_count": 28
        }
      ]
    },
    {
      "cell_type": "code",
      "source": [
        "national_id.replace(\" \",\"\")"
      ],
      "metadata": {
        "colab": {
          "base_uri": "https://localhost:8080/",
          "height": 35
        },
        "id": "rR3egvYpWuXw",
        "outputId": "f2f876db-bac3-4bc2-9cc8-1ceb9b124fec"
      },
      "execution_count": null,
      "outputs": [
        {
          "output_type": "execute_result",
          "data": {
            "text/plain": [
              "'42159592'"
            ],
            "application/vnd.google.colaboratory.intrinsic+json": {
              "type": "string"
            }
          },
          "metadata": {},
          "execution_count": 29
        }
      ]
    },
    {
      "cell_type": "code",
      "source": [
        "national_id.replace(\"4\",\"5\")"
      ],
      "metadata": {
        "colab": {
          "base_uri": "https://localhost:8080/",
          "height": 35
        },
        "id": "6Wb9127-W6qW",
        "outputId": "a4376ecf-838a-4f67-e389-87c407294d8a"
      },
      "execution_count": null,
      "outputs": [
        {
          "output_type": "execute_result",
          "data": {
            "text/plain": [
              "'  521 59592 '"
            ],
            "application/vnd.google.colaboratory.intrinsic+json": {
              "type": "string"
            }
          },
          "metadata": {},
          "execution_count": 35
        }
      ]
    },
    {
      "cell_type": "code",
      "source": [
        "my_new_id=national_id.strip().replace(\" \",\"\").replace(\"5\",\"4\")"
      ],
      "metadata": {
        "id": "i82sOFtFXflt"
      },
      "execution_count": null,
      "outputs": []
    },
    {
      "cell_type": "code",
      "source": [
        "print(my_new_id)"
      ],
      "metadata": {
        "colab": {
          "base_uri": "https://localhost:8080/"
        },
        "id": "q9fnW2aIX5fJ",
        "outputId": "5cc8e235-edc5-46d4-8c96-378856c77516"
      },
      "execution_count": null,
      "outputs": [
        {
          "output_type": "stream",
          "name": "stdout",
          "text": [
            "42149492\n"
          ]
        }
      ]
    },
    {
      "cell_type": "code",
      "source": [
        "my_new_id.isnumeric()"
      ],
      "metadata": {
        "colab": {
          "base_uri": "https://localhost:8080/"
        },
        "id": "hqm4acUJYItP",
        "outputId": "e03fe302-6358-4c59-c6df-d19c5130c2d7"
      },
      "execution_count": null,
      "outputs": [
        {
          "output_type": "execute_result",
          "data": {
            "text/plain": [
              "True"
            ]
          },
          "metadata": {},
          "execution_count": 47
        }
      ]
    },
    {
      "cell_type": "code",
      "source": [
        "national_id.isnumeric()"
      ],
      "metadata": {
        "colab": {
          "base_uri": "https://localhost:8080/"
        },
        "id": "fFddSlbSg-VS",
        "outputId": "657efbab-149d-4901-8ad7-3241dd77ad0e"
      },
      "execution_count": null,
      "outputs": [
        {
          "output_type": "execute_result",
          "data": {
            "text/plain": [
              "False"
            ]
          },
          "metadata": {},
          "execution_count": 48
        }
      ]
    },
    {
      "cell_type": "code",
      "source": [
        "cars=\"toyota,benz,bmw\"\n",
        "cars.split(\",\")"
      ],
      "metadata": {
        "colab": {
          "base_uri": "https://localhost:8080/"
        },
        "id": "RE0nHi5RhJOY",
        "outputId": "5ada7d82-f5ac-43fc-938f-bcd50f7427d5"
      },
      "execution_count": null,
      "outputs": [
        {
          "output_type": "execute_result",
          "data": {
            "text/plain": [
              "['toyota', 'benz', 'bmw']"
            ]
          },
          "metadata": {},
          "execution_count": 50
        }
      ]
    },
    {
      "cell_type": "code",
      "source": [
        "True"
      ],
      "metadata": {
        "colab": {
          "base_uri": "https://localhost:8080/"
        },
        "id": "M7P1yLCMh-n6",
        "outputId": "ffd91b5a-50e9-4381-deef-5d93ba59686e"
      },
      "execution_count": null,
      "outputs": [
        {
          "output_type": "execute_result",
          "data": {
            "text/plain": [
              "True"
            ]
          },
          "metadata": {},
          "execution_count": 51
        }
      ]
    },
    {
      "cell_type": "code",
      "source": [
        "is_cloudy=True"
      ],
      "metadata": {
        "id": "8pSQxwsjiwm2"
      },
      "execution_count": null,
      "outputs": []
    },
    {
      "cell_type": "code",
      "source": [
        "type(is_cloudy)"
      ],
      "metadata": {
        "colab": {
          "base_uri": "https://localhost:8080/"
        },
        "id": "4N0x-Axgi1A8",
        "outputId": "991dbfc3-5766-4d8d-dd48-b096ff54073e"
      },
      "execution_count": null,
      "outputs": [
        {
          "output_type": "execute_result",
          "data": {
            "text/plain": [
              "bool"
            ]
          },
          "metadata": {},
          "execution_count": 53
        }
      ]
    },
    {
      "cell_type": "code",
      "source": [
        "a=15\n",
        "b=5\n",
        "a==b"
      ],
      "metadata": {
        "colab": {
          "base_uri": "https://localhost:8080/"
        },
        "id": "vd0sXY9-i29x",
        "outputId": "84b3f097-a659-4157-9074-53b5bf767001"
      },
      "execution_count": null,
      "outputs": [
        {
          "output_type": "execute_result",
          "data": {
            "text/plain": [
              "False"
            ]
          },
          "metadata": {},
          "execution_count": 54
        }
      ]
    },
    {
      "cell_type": "code",
      "source": [
        "c = a==b\n",
        "print(c)"
      ],
      "metadata": {
        "colab": {
          "base_uri": "https://localhost:8080/"
        },
        "id": "1lzAEJYnjZJ-",
        "outputId": "1999d519-b8c1-4bf2-b88b-0c979aba9072"
      },
      "execution_count": null,
      "outputs": [
        {
          "output_type": "stream",
          "name": "stdout",
          "text": [
            "False\n"
          ]
        }
      ]
    },
    {
      "cell_type": "code",
      "source": [
        "print(a>b)\n",
        "print(a<b)\n",
        "print(a>=b)\n",
        "print(a<=b)\n",
        "print(not a==b)"
      ],
      "metadata": {
        "colab": {
          "base_uri": "https://localhost:8080/"
        },
        "id": "_YqcuzXJjnGS",
        "outputId": "f17daefd-2ab4-4d0a-a237-197e2db022b8"
      },
      "execution_count": null,
      "outputs": [
        {
          "output_type": "stream",
          "name": "stdout",
          "text": [
            "True\n",
            "False\n",
            "True\n",
            "False\n",
            "True\n"
          ]
        }
      ]
    },
    {
      "cell_type": "code",
      "source": [
        "a=3\n",
        "b=3\n",
        "c=4\n",
        "\n",
        "a==b\n",
        "b==c"
      ],
      "metadata": {
        "colab": {
          "base_uri": "https://localhost:8080/"
        },
        "id": "m_j9fkE2kOJT",
        "outputId": "7dfe8693-fc8f-489f-f06b-7616a5661987"
      },
      "execution_count": null,
      "outputs": [
        {
          "output_type": "execute_result",
          "data": {
            "text/plain": [
              "False"
            ]
          },
          "metadata": {},
          "execution_count": 57
        }
      ]
    },
    {
      "cell_type": "code",
      "source": [
        "(a==b) and (b==c)"
      ],
      "metadata": {
        "colab": {
          "base_uri": "https://localhost:8080/"
        },
        "id": "uHzKBBlNmE_5",
        "outputId": "41859200-5046-4d6c-b6d5-1e7d709659b3"
      },
      "execution_count": null,
      "outputs": [
        {
          "output_type": "execute_result",
          "data": {
            "text/plain": [
              "False"
            ]
          },
          "metadata": {},
          "execution_count": 58
        }
      ]
    },
    {
      "cell_type": "code",
      "source": [
        "(a==b) or (b==c)"
      ],
      "metadata": {
        "colab": {
          "base_uri": "https://localhost:8080/"
        },
        "id": "FD1z_BQKmKKc",
        "outputId": "ac9036f4-3d25-4ebb-f9e8-823f6af37ac0"
      },
      "execution_count": null,
      "outputs": [
        {
          "output_type": "execute_result",
          "data": {
            "text/plain": [
              "True"
            ]
          },
          "metadata": {},
          "execution_count": 59
        }
      ]
    },
    {
      "cell_type": "code",
      "source": [
        "limit_weight=20\n",
        "truck_weight=int(input(\"what is your truck weight?\"))\n",
        "if truck_weight>limit_weight:\n",
        "  print(\"Pay Fine\")\n",
        "else:\n",
        "  print(\"Don't Pay Fine\")"
      ],
      "metadata": {
        "colab": {
          "base_uri": "https://localhost:8080/"
        },
        "id": "ILGmSJ8XmPJt",
        "outputId": "e1f441bb-8afa-43af-99df-99c6d1062df4"
      },
      "execution_count": null,
      "outputs": [
        {
          "output_type": "stream",
          "name": "stdout",
          "text": [
            "what is your truck weight?10\n",
            "Don't Pay Fine\n"
          ]
        }
      ]
    },
    {
      "cell_type": "code",
      "source": [
        "is_raining=True\n",
        "if is_raining:\n",
        "  print(\"Carry an Umbrella\")\n",
        "else:\n",
        "  print(\"Don't carry an Umbrella\")"
      ],
      "metadata": {
        "colab": {
          "base_uri": "https://localhost:8080/"
        },
        "id": "qHlmAea1ou-0",
        "outputId": "b35cc8ec-f6e8-455f-cf81-7b920ad95c70"
      },
      "execution_count": null,
      "outputs": [
        {
          "output_type": "stream",
          "name": "stdout",
          "text": [
            "Carry an Umbrella\n"
          ]
        }
      ]
    },
    {
      "cell_type": "code",
      "source": [
        "num_of_pass=int(input(\"How many passengers are there?\"))\n",
        "if (num_of_pass==1):\n",
        "  print(\"Use Uber Boda\")\n",
        "elif (num_of_pass>1 and num_of_pass<=4):\n",
        "  print(\"Use Uber X\")\n",
        "elif(num_of_pass>4 and num_of_pass<7):\n",
        "  print(\"Use Uber X1\")\n",
        "else:\n",
        "  print(\"No Uber class available\")"
      ],
      "metadata": {
        "colab": {
          "base_uri": "https://localhost:8080/"
        },
        "id": "jVLiiTXcpKX5",
        "outputId": "51db8793-9c64-4e8e-f43c-ada5420b68fd"
      },
      "execution_count": null,
      "outputs": [
        {
          "output_type": "stream",
          "name": "stdout",
          "text": [
            "How many passengers are there?4\n",
            "Use Uber X\n"
          ]
        }
      ]
    },
    {
      "cell_type": "code",
      "source": [
        "import math\n",
        "def calculator():\n",
        "  operator=input(\"Choose Operation(+,-,*,/,cos,sin,tan,log2,log10)\")\n",
        "  if operator==\"+\":\n",
        "    num_1=input(\"Enter the First Number\")\n",
        "    num_2=input(\"Enter the Second Number\")\n",
        "    if num_1.isnumeric() and num_2.isnumeric():\n",
        "      num_1=float(num_1)\n",
        "      num_2=float(num_2)\n",
        "    else: print(\"The value needs to be a Number\")\n",
        "    return\n",
        "    print(num_1+num_2)\n",
        "  elif operator==\"-\":\n",
        "    num_1=input(\"Enter the First Number\")\n",
        "    num_2=input(\"Enter the Second Number\")\n",
        "    if num_1.isnumeric() and num_2.isnumeric():\n",
        "      num_1=float(num_1)\n",
        "      num_2=float(num_2)\n",
        "    else:print(\"The value needs to be a number\")\n",
        "    return\n",
        "    print(num_1-num_2)\n",
        "  elif operator==\"*\":\n",
        "    num_1=input(\"Enter the First Number\")\n",
        "    num_2=input(\"Enter the Second Number\")\n",
        "    if num_1.isnumeric() and num_2.isnumeric():\n",
        "      num_1=float(num_1)\n",
        "      num_2=float(num_2)\n",
        "    else: print(\"The value needs to be a Number\")\n",
        "    return\n",
        "    print(num_1*num_2)\n",
        "  elif operator==\"/\":\n",
        "    num_1=input(\"Enter the First Number\")\n",
        "    num_2=input(\"Enter the Second Number\")\n",
        "    if num_1.isnumeric() and num_2.isnumeric():\n",
        "      num_1=float(num_1)\n",
        "      num_2=float(num_2)\n",
        "    else: print(\"The value needs to be a Number\")\n",
        "    return\n",
        "    print(num_1/num_2)\n",
        "  elif operator==\"cos\":\n",
        "    num=input(\"Enter Number\")\n",
        "    if num.isnumeric():\n",
        "      num = float(num)\n",
        "    else:\n",
        "      print(\"The value provided needs to be a number\")\n",
        "      return\n",
        "    print(math.cos(math.radians(num)))\n",
        "  elif operator==\"sin\":\n",
        "    num=input(\"Enter Number\")\n",
        "    if num.isnumeric():\n",
        "      num = float(num)\n",
        "    else:\n",
        "      print(\"The value provided needs to be a number\")\n",
        "      return\n",
        "    print(math.sin(math.radians(num)))\n",
        "  elif operator==\"tan\":\n",
        "    num=input(\"Enter Number\")\n",
        "    if num.isnumeric():\n",
        "      num = float(num)\n",
        "    else:\n",
        "      print(\"The value provided needs to be a number\")\n",
        "      return\n",
        "    print(math.tan(math.radians(num)))\n",
        "  elif operator==\"log2\":\n",
        "    num=input(\"Enter Number\")\n",
        "    if num.isnumeric():\n",
        "      num = float(num)\n",
        "    else:\n",
        "      print(\"The value provided needs to be a number\")\n",
        "      return\n",
        "    print(math.log2(num))\n",
        "  elif operator==\"log10\":\n",
        "    num=input(\"Enter Number\")\n",
        "    if num.isnumeric():\n",
        "      num = float(num)\n",
        "    else:\n",
        "      print(\"The value provided needs to be a number\")\n",
        "      return\n",
        "    print(math.log10(num))\n",
        "  else:\n",
        "    print(\"Select an Operator\")"
      ],
      "metadata": {
        "id": "QqcLjLw6sO4o"
      },
      "execution_count": null,
      "outputs": []
    },
    {
      "cell_type": "code",
      "source": [
        "calculator()"
      ],
      "metadata": {
        "colab": {
          "base_uri": "https://localhost:8080/"
        },
        "id": "mn-7kuHym45X",
        "outputId": "6791120e-e138-4655-b0e6-0be7c27f1591"
      },
      "execution_count": null,
      "outputs": [
        {
          "output_type": "stream",
          "name": "stdout",
          "text": [
            "Choose Operation(+,-,*,/,cos,sin,tan,log2,log10)sin\n",
            "Enter Number12\n",
            "0.20791169081775934\n"
          ]
        }
      ]
    },
    {
      "cell_type": "code",
      "source": [
        "names=['pithon','mwangi','gichohi','jackson','paul','wambugu']"
      ],
      "metadata": {
        "id": "uPVjPDnjtBC9"
      },
      "execution_count": null,
      "outputs": []
    },
    {
      "cell_type": "code",
      "source": [
        "names.index(\"wambugu\")"
      ],
      "metadata": {
        "colab": {
          "base_uri": "https://localhost:8080/"
        },
        "id": "go_010fS1Wto",
        "outputId": "c7234c41-e526-4929-895c-cd33ed7d6e86"
      },
      "execution_count": null,
      "outputs": [
        {
          "output_type": "execute_result",
          "data": {
            "text/plain": [
              "5"
            ]
          },
          "metadata": {},
          "execution_count": 75
        }
      ]
    },
    {
      "cell_type": "code",
      "source": [
        "names[len(names)-1]"
      ],
      "metadata": {
        "colab": {
          "base_uri": "https://localhost:8080/",
          "height": 35
        },
        "id": "qG2_owyr1jGR",
        "outputId": "21366374-405e-4d29-d20a-9d7fdb84ea8c"
      },
      "execution_count": null,
      "outputs": [
        {
          "output_type": "execute_result",
          "data": {
            "text/plain": [
              "'wambugu'"
            ],
            "application/vnd.google.colaboratory.intrinsic+json": {
              "type": "string"
            }
          },
          "metadata": {},
          "execution_count": 76
        }
      ]
    },
    {
      "cell_type": "code",
      "source": [
        "names[0]"
      ],
      "metadata": {
        "colab": {
          "base_uri": "https://localhost:8080/",
          "height": 35
        },
        "id": "kk2QiLuX1yWN",
        "outputId": "5253c087-ddb8-44f8-f1a2-718a9226b439"
      },
      "execution_count": null,
      "outputs": [
        {
          "output_type": "execute_result",
          "data": {
            "text/plain": [
              "'pithon'"
            ],
            "application/vnd.google.colaboratory.intrinsic+json": {
              "type": "string"
            }
          },
          "metadata": {},
          "execution_count": 77
        }
      ]
    },
    {
      "cell_type": "code",
      "source": [
        "names.index(\"mwangi\")"
      ],
      "metadata": {
        "colab": {
          "base_uri": "https://localhost:8080/"
        },
        "id": "p8C8HNiK15sD",
        "outputId": "01ca01cd-ce68-4b1a-d3dd-e41d5bdf3d42"
      },
      "execution_count": null,
      "outputs": [
        {
          "output_type": "execute_result",
          "data": {
            "text/plain": [
              "1"
            ]
          },
          "metadata": {},
          "execution_count": 78
        }
      ]
    },
    {
      "cell_type": "code",
      "source": [
        "names.index(\"pithon\")"
      ],
      "metadata": {
        "colab": {
          "base_uri": "https://localhost:8080/"
        },
        "id": "5K0zUrB61-Vh",
        "outputId": "07223060-f2fe-4e2d-fb59-e55bf4e5e497"
      },
      "execution_count": null,
      "outputs": [
        {
          "output_type": "execute_result",
          "data": {
            "text/plain": [
              "0"
            ]
          },
          "metadata": {},
          "execution_count": 79
        }
      ]
    },
    {
      "cell_type": "code",
      "source": [
        "names[0:2]"
      ],
      "metadata": {
        "colab": {
          "base_uri": "https://localhost:8080/"
        },
        "id": "WYEj3cEC2VK3",
        "outputId": "9882a940-b258-45d7-d12f-48c353daddf6"
      },
      "execution_count": null,
      "outputs": [
        {
          "output_type": "execute_result",
          "data": {
            "text/plain": [
              "['pithon', 'mwangi']"
            ]
          },
          "metadata": {},
          "execution_count": 80
        }
      ]
    },
    {
      "cell_type": "code",
      "source": [
        "len(names)"
      ],
      "metadata": {
        "colab": {
          "base_uri": "https://localhost:8080/"
        },
        "id": "4svDe_GC2ydS",
        "outputId": "a2163254-99e4-4b33-d6db-495b9c899114"
      },
      "execution_count": null,
      "outputs": [
        {
          "output_type": "execute_result",
          "data": {
            "text/plain": [
              "6"
            ]
          },
          "metadata": {},
          "execution_count": 81
        }
      ]
    },
    {
      "cell_type": "code",
      "source": [
        "names[0:5]"
      ],
      "metadata": {
        "colab": {
          "base_uri": "https://localhost:8080/"
        },
        "id": "SgoMqkJf3C5r",
        "outputId": "5036e008-f57e-4b62-c7c7-73f8d51cf77f"
      },
      "execution_count": null,
      "outputs": [
        {
          "output_type": "execute_result",
          "data": {
            "text/plain": [
              "['pithon', 'mwangi', 'gichohi', 'jackson', 'paul']"
            ]
          },
          "metadata": {},
          "execution_count": 82
        }
      ]
    },
    {
      "cell_type": "code",
      "source": [
        "names[4:]"
      ],
      "metadata": {
        "colab": {
          "base_uri": "https://localhost:8080/"
        },
        "id": "k7l3V1fG3HA2",
        "outputId": "e2c5112b-b375-4f8b-fd83-8a73a4ba5c20"
      },
      "execution_count": null,
      "outputs": [
        {
          "output_type": "execute_result",
          "data": {
            "text/plain": [
              "['paul', 'wambugu']"
            ]
          },
          "metadata": {},
          "execution_count": 83
        }
      ]
    },
    {
      "cell_type": "code",
      "source": [
        "names[ :4]"
      ],
      "metadata": {
        "colab": {
          "base_uri": "https://localhost:8080/"
        },
        "id": "B27Pt15_3N3b",
        "outputId": "5bc703e5-d1bc-4ad9-ec49-9c0fc47f389d"
      },
      "execution_count": null,
      "outputs": [
        {
          "output_type": "execute_result",
          "data": {
            "text/plain": [
              "['pithon', 'mwangi', 'gichohi', 'jackson']"
            ]
          },
          "metadata": {},
          "execution_count": 84
        }
      ]
    },
    {
      "cell_type": "code",
      "source": [
        "names[0: :2]"
      ],
      "metadata": {
        "colab": {
          "base_uri": "https://localhost:8080/"
        },
        "id": "5UZCkkPc3grr",
        "outputId": "48ac2b73-b0ab-4446-bb30-636fdbc84228"
      },
      "execution_count": null,
      "outputs": [
        {
          "output_type": "execute_result",
          "data": {
            "text/plain": [
              "['pithon', 'gichohi', 'paul']"
            ]
          },
          "metadata": {},
          "execution_count": 85
        }
      ]
    },
    {
      "cell_type": "code",
      "source": [
        "names[0: :-1]"
      ],
      "metadata": {
        "colab": {
          "base_uri": "https://localhost:8080/"
        },
        "id": "liSRxkeb4JcF",
        "outputId": "ec2b4508-e478-420b-8b25-955454223ed9"
      },
      "execution_count": null,
      "outputs": [
        {
          "output_type": "execute_result",
          "data": {
            "text/plain": [
              "['pithon']"
            ]
          },
          "metadata": {},
          "execution_count": 86
        }
      ]
    },
    {
      "cell_type": "code",
      "source": [
        "names[::-1]"
      ],
      "metadata": {
        "colab": {
          "base_uri": "https://localhost:8080/"
        },
        "id": "gMgOef5n4tQd",
        "outputId": "86fea608-eb06-4564-fdc9-b339b37dd266"
      },
      "execution_count": null,
      "outputs": [
        {
          "output_type": "execute_result",
          "data": {
            "text/plain": [
              "['wambugu', 'paul', 'jackson', 'gichohi', 'mwangi', 'pithon']"
            ]
          },
          "metadata": {},
          "execution_count": 87
        }
      ]
    },
    {
      "cell_type": "code",
      "source": [
        "names.append(\"monicah\")"
      ],
      "metadata": {
        "id": "N8ldk30Z6rKC"
      },
      "execution_count": null,
      "outputs": []
    },
    {
      "cell_type": "code",
      "source": [
        "names"
      ],
      "metadata": {
        "colab": {
          "base_uri": "https://localhost:8080/"
        },
        "id": "dwLN8u-S6vKE",
        "outputId": "cf12aa2a-d23a-4038-fcd2-e5c8dafc4472"
      },
      "execution_count": null,
      "outputs": [
        {
          "output_type": "execute_result",
          "data": {
            "text/plain": [
              "['pithon', 'mwangi', 'gichohi', 'jackson', 'paul', 'wambugu', 'monicah']"
            ]
          },
          "metadata": {},
          "execution_count": 89
        }
      ]
    },
    {
      "cell_type": "code",
      "source": [
        "names[0]=\"jane\""
      ],
      "metadata": {
        "id": "iJhnaB_B6wbE"
      },
      "execution_count": null,
      "outputs": []
    },
    {
      "cell_type": "code",
      "source": [
        "names"
      ],
      "metadata": {
        "colab": {
          "base_uri": "https://localhost:8080/"
        },
        "id": "52CSPWZy6zL4",
        "outputId": "22715279-6636-4a64-d4fd-1ea8ca41306a"
      },
      "execution_count": null,
      "outputs": [
        {
          "output_type": "execute_result",
          "data": {
            "text/plain": [
              "['jane', 'mwangi', 'gichohi', 'jackson', 'paul', 'wambugu', 'monicah']"
            ]
          },
          "metadata": {},
          "execution_count": 91
        }
      ]
    },
    {
      "cell_type": "code",
      "source": [
        "names.pop()"
      ],
      "metadata": {
        "colab": {
          "base_uri": "https://localhost:8080/",
          "height": 35
        },
        "id": "06pT3_-P60HL",
        "outputId": "ba2ac735-7248-4b5e-9e75-840d6d4ff79d"
      },
      "execution_count": null,
      "outputs": [
        {
          "output_type": "execute_result",
          "data": {
            "text/plain": [
              "'monicah'"
            ],
            "application/vnd.google.colaboratory.intrinsic+json": {
              "type": "string"
            }
          },
          "metadata": {},
          "execution_count": 92
        }
      ]
    },
    {
      "cell_type": "code",
      "source": [
        "names"
      ],
      "metadata": {
        "colab": {
          "base_uri": "https://localhost:8080/"
        },
        "id": "b_1ZOd7V7PZB",
        "outputId": "1596b7a4-f6f9-4e38-eeca-1e96853e61cb"
      },
      "execution_count": null,
      "outputs": [
        {
          "output_type": "execute_result",
          "data": {
            "text/plain": [
              "['jane', 'mwangi', 'gichohi', 'jackson', 'paul', 'wambugu']"
            ]
          },
          "metadata": {},
          "execution_count": 93
        }
      ]
    },
    {
      "cell_type": "code",
      "source": [
        "names.remove(\"jane\")"
      ],
      "metadata": {
        "id": "9wX2XB507RW6"
      },
      "execution_count": null,
      "outputs": []
    },
    {
      "cell_type": "code",
      "source": [
        "names"
      ],
      "metadata": {
        "colab": {
          "base_uri": "https://localhost:8080/"
        },
        "id": "_G0fe6FK7YAZ",
        "outputId": "1e758340-5de2-4fb9-ce23-76d55b97b3fe"
      },
      "execution_count": null,
      "outputs": [
        {
          "output_type": "execute_result",
          "data": {
            "text/plain": [
              "['mwangi', 'gichohi', 'jackson', 'paul', 'wambugu']"
            ]
          },
          "metadata": {},
          "execution_count": 96
        }
      ]
    },
    {
      "cell_type": "code",
      "source": [
        "names.append(\"pithon\")"
      ],
      "metadata": {
        "id": "U_T79hx97ds4"
      },
      "execution_count": null,
      "outputs": []
    },
    {
      "cell_type": "code",
      "source": [
        "names"
      ],
      "metadata": {
        "colab": {
          "base_uri": "https://localhost:8080/"
        },
        "id": "9kjTskS_7hkp",
        "outputId": "6b5c5c9f-006f-4601-ff26-44aeec1b3431"
      },
      "execution_count": null,
      "outputs": [
        {
          "output_type": "execute_result",
          "data": {
            "text/plain": [
              "['mwangi', 'gichohi', 'jackson', 'paul', 'wambugu', 'pithon']"
            ]
          },
          "metadata": {},
          "execution_count": 100
        }
      ]
    },
    {
      "cell_type": "code",
      "source": [
        "student_marks=\"20,30,28,18,40,87,90\""
      ],
      "metadata": {
        "id": "bXvCyVFT8Dsu"
      },
      "execution_count": null,
      "outputs": []
    },
    {
      "cell_type": "code",
      "source": [
        "student_marks=student_marks.split(\",\")"
      ],
      "metadata": {
        "id": "OynqDq6U80--"
      },
      "execution_count": null,
      "outputs": []
    },
    {
      "cell_type": "code",
      "source": [
        "student_marks"
      ],
      "metadata": {
        "colab": {
          "base_uri": "https://localhost:8080/"
        },
        "id": "99MgHENf9AKJ",
        "outputId": "e7343783-77a8-4d21-d6f7-72f127044f8d"
      },
      "execution_count": null,
      "outputs": [
        {
          "output_type": "execute_result",
          "data": {
            "text/plain": [
              "['20', '30', '28', '18', '40', '87', '90']"
            ]
          },
          "metadata": {},
          "execution_count": 110
        }
      ]
    },
    {
      "cell_type": "code",
      "source": [
        "max(student_marks)"
      ],
      "metadata": {
        "colab": {
          "base_uri": "https://localhost:8080/",
          "height": 35
        },
        "id": "hQVxrj759CUK",
        "outputId": "77b9e017-9af3-40a2-f69a-53a7c8944c2b"
      },
      "execution_count": null,
      "outputs": [
        {
          "output_type": "execute_result",
          "data": {
            "text/plain": [
              "'90'"
            ],
            "application/vnd.google.colaboratory.intrinsic+json": {
              "type": "string"
            }
          },
          "metadata": {},
          "execution_count": 111
        }
      ]
    },
    {
      "cell_type": "code",
      "source": [
        "min(student_marks)"
      ],
      "metadata": {
        "colab": {
          "base_uri": "https://localhost:8080/",
          "height": 35
        },
        "id": "DBBCkw0l98pk",
        "outputId": "2a60dc93-2ea7-431d-b5fd-b18d5b0a81b5"
      },
      "execution_count": null,
      "outputs": [
        {
          "output_type": "execute_result",
          "data": {
            "text/plain": [
              "'18'"
            ],
            "application/vnd.google.colaboratory.intrinsic+json": {
              "type": "string"
            }
          },
          "metadata": {},
          "execution_count": 112
        }
      ]
    },
    {
      "cell_type": "code",
      "source": [
        "marks=[10,20,56,76,67,89,90]"
      ],
      "metadata": {
        "id": "rKIlWOp2-VlB"
      },
      "execution_count": null,
      "outputs": []
    },
    {
      "cell_type": "code",
      "source": [
        "sum(marks)"
      ],
      "metadata": {
        "colab": {
          "base_uri": "https://localhost:8080/"
        },
        "id": "4mQgDSd5-YVu",
        "outputId": "459b859e-5634-41f5-de59-869cc003570b"
      },
      "execution_count": null,
      "outputs": [
        {
          "output_type": "execute_result",
          "data": {
            "text/plain": [
              "408"
            ]
          },
          "metadata": {},
          "execution_count": 119
        }
      ]
    },
    {
      "cell_type": "code",
      "source": [
        "sum(marks)/len(marks)"
      ],
      "metadata": {
        "colab": {
          "base_uri": "https://localhost:8080/"
        },
        "id": "boUMgcDL-0Tm",
        "outputId": "ef4685ce-bfdc-44de-c229-02f6f5323d25"
      },
      "execution_count": null,
      "outputs": [
        {
          "output_type": "execute_result",
          "data": {
            "text/plain": [
              "58.285714285714285"
            ]
          },
          "metadata": {},
          "execution_count": 121
        }
      ]
    },
    {
      "cell_type": "code",
      "source": [
        "set(marks)"
      ],
      "metadata": {
        "colab": {
          "base_uri": "https://localhost:8080/"
        },
        "id": "c_v5-MBT_Kbp",
        "outputId": "d3475f67-8bda-4433-af8c-64efb38c9002"
      },
      "execution_count": null,
      "outputs": [
        {
          "output_type": "execute_result",
          "data": {
            "text/plain": [
              "{10, 20, 56, 67, 76, 89, 90}"
            ]
          },
          "metadata": {},
          "execution_count": 122
        }
      ]
    },
    {
      "cell_type": "code",
      "source": [
        "#loops in a list"
      ],
      "metadata": {
        "id": "GjYCMC94_S7q"
      },
      "execution_count": null,
      "outputs": []
    },
    {
      "cell_type": "code",
      "source": [
        "cars= ['subaru,toyota,benz,volkswagen,hyundai']"
      ],
      "metadata": {
        "id": "aHnAisEYAS9d"
      },
      "execution_count": null,
      "outputs": []
    },
    {
      "cell_type": "code",
      "source": [
        "for car in cars:\n",
        "  print(cars)"
      ],
      "metadata": {
        "colab": {
          "base_uri": "https://localhost:8080/"
        },
        "id": "BhBewWmXAb8m",
        "outputId": "61fd9386-7ccb-4be6-829f-5183a1908ee4"
      },
      "execution_count": null,
      "outputs": [
        {
          "output_type": "stream",
          "name": "stdout",
          "text": [
            "['subaru,toyota,benz,volkswagen,hyundai']\n"
          ]
        }
      ]
    },
    {
      "cell_type": "code",
      "source": [
        "orders = [\n",
        "    [\"Alice\", \"Laptop\", 1, 750, \"delivered\"],\n",
        "    [\"Bob\", \"Phone\", 2, 400, \"pending\"],\n",
        "    [\"Charlie\", \"Headphones\", 1, 150, \"deli vered\"],\n",
        "    [\"David\", \"Phone\", \"two\", 400, \"delivered\"],  # wrong quantity format\n",
        "    [\"Eve\", \"Monitor\", 1, \"two hundred\", \"delivered \"],  # price is a string\n",
        "    [\"Frank\", \"Keyboard\", 1, 50, \"p3nding\"],\n",
        "    [\"Grace\", \"Mouse\", 1, 30, \"delivered\"],\n",
        "    [\"Heidi\", \"Laptop\", 2, 750, \"cancelled\"],\n",
        "    [\"Ivan\", \"Phone\", 1, 400, \"Delivered\"],  # case inconsistency\n",
        "    [\"Judy\", \"\", 1, 150, \"delivered\"],  # missing item infer by price of item\n",
        "]"
      ],
      "metadata": {
        "id": "18_-zwN0A6Rh"
      },
      "execution_count": null,
      "outputs": []
    },
    {
      "cell_type": "code",
      "source": [
        "#cleaning data\n",
        "orders[2]= ['Charlie','Headphones',1,150,'delivered']\n",
        "orders[3]=['David','Phone',2,400,'delivered']\n",
        "orders[4]=['Eve','Monitor',1,200,'delivered']\n",
        "orders[5]=['frank','Keyboard',1,50,'pending']\n",
        "orders[8]=['Ivan','Phone',1,400,'delivered']\n",
        "orders[9]=['Judy','Headhones',1,150,'delivered']\n",
        "orders"
      ],
      "metadata": {
        "id": "Td7vhGMqsLCm",
        "colab": {
          "base_uri": "https://localhost:8080/"
        },
        "outputId": "1d51fc45-405d-4431-a65a-d0bda9eedc21"
      },
      "execution_count": null,
      "outputs": [
        {
          "output_type": "execute_result",
          "data": {
            "text/plain": [
              "[['Alice', 'Laptop', 1, 750, 'delivered'],\n",
              " ['Bob', 'Phone', 2, 400, 'pending'],\n",
              " ['Charlie', 'Headphones', 1, 150, 'delivered'],\n",
              " ['David', 'Phone', 2, 400, 'delivered'],\n",
              " ['Eve', 'Monitor', 1, 200, 'delivered'],\n",
              " ['frank', 'Keyboard', 1, 50, 'pending'],\n",
              " ['Grace', 'Mouse', 1, 30, 'delivered'],\n",
              " ['Heidi', 'Laptop', 2, 750, 'cancelled'],\n",
              " ['Ivan', 'Phone', 1, 400, 'delivered'],\n",
              " ['Judy', 'Headhones', 1, 150, 'delivered']]"
            ]
          },
          "metadata": {},
          "execution_count": 57
        }
      ]
    },
    {
      "cell_type": "code",
      "source": [
        "#total amount spent\n",
        "total_amount_spent=0\n",
        "for order in orders:\n",
        "  amount_spent=order[2]*order[3]\n",
        "  total_amount_spent+=amount_spent\n",
        "total_amount_spent"
      ],
      "metadata": {
        "colab": {
          "base_uri": "https://localhost:8080/"
        },
        "id": "FgkYPSWJMglm",
        "outputId": "30660702-a8c5-4c6e-cb60-7e13a50185c9"
      },
      "execution_count": null,
      "outputs": [
        {
          "output_type": "execute_result",
          "data": {
            "text/plain": [
              "4830"
            ]
          },
          "metadata": {},
          "execution_count": 58
        }
      ]
    },
    {
      "cell_type": "code",
      "source": [
        "#average amount spent\n",
        "for order in orders:\n",
        "  average_amount_spent=total_amount_spent/len(orders)\n",
        "average_amount_spent"
      ],
      "metadata": {
        "colab": {
          "base_uri": "https://localhost:8080/"
        },
        "id": "Rbq9XNnjNgGt",
        "outputId": "ed089bc0-5b71-45c9-c552-16806342e285"
      },
      "execution_count": null,
      "outputs": [
        {
          "output_type": "execute_result",
          "data": {
            "text/plain": [
              "483.0"
            ]
          },
          "metadata": {},
          "execution_count": 59
        }
      ]
    },
    {
      "cell_type": "code",
      "source": [
        "# name of customer with highest amount\n",
        "def get_total_amount_spent(order):\n",
        "    quantity = int(order[2])\n",
        "    price_per_item = int(order[3])\n",
        "    return quantity * price_per_item\n",
        "\n",
        "def customer_with_highest_amount_spent():\n",
        "    max_total = 0\n",
        "    highest_order = None\n",
        "\n",
        "    for order in orders:\n",
        "        total_amount_spent = get_total_amount_spent(order)\n",
        "        if total_amount_spent > max_total:\n",
        "            max_total = total_amount_spent\n",
        "            highest_order = order\n",
        "\n",
        "    if highest_order:\n",
        "        customer_name = highest_order[0]\n",
        "        print(customer_name)\n",
        "customer_with_highest_amount_spent()"
      ],
      "metadata": {
        "colab": {
          "base_uri": "https://localhost:8080/"
        },
        "id": "9npU7MWZOR2w",
        "outputId": "a9b5b41f-b851-4a2a-f9de-e1daeef94544"
      },
      "execution_count": null,
      "outputs": [
        {
          "output_type": "stream",
          "name": "stdout",
          "text": [
            "Heidi\n"
          ]
        }
      ]
    },
    {
      "cell_type": "code",
      "source": [
        "#lowest amount spent\n",
        "min_total = orders[0][3]\n",
        "lowest_order = None\n",
        "\n",
        "for order in orders:\n",
        "    total_amount_per_customer = get_total_amount_spent(order)\n",
        "    if total_amount_per_customer < min_total:\n",
        "        min_total = total_amount_per_customer\n",
        "        lowest_order = order\n",
        "print(min_total)"
      ],
      "metadata": {
        "colab": {
          "base_uri": "https://localhost:8080/"
        },
        "id": "wOOnPhlXXU2C",
        "outputId": "9363d72b-47f1-4aa1-8d88-fc4d9c842915"
      },
      "execution_count": null,
      "outputs": [
        {
          "output_type": "stream",
          "name": "stdout",
          "text": [
            "30\n"
          ]
        }
      ]
    },
    {
      "cell_type": "code",
      "source": [
        "#most sold item\n",
        "items = []\n",
        "quantities = []\n",
        "\n",
        "for order in orders:\n",
        "    item = order[1]\n",
        "    quantity = order[2]\n",
        "\n",
        "    if item not in items:\n",
        "        items.append(item)\n",
        "        quantities.append(quantity)\n",
        "    else:\n",
        "        index = items.index(item)\n",
        "        quantities[index] += quantity\n",
        "\n",
        "max_index = 0\n",
        "for i in range(1, len(quantities)):\n",
        "    if quantities[i] > quantities[max_index]:\n",
        "        max_index = i\n",
        "\n",
        "print(items[max_index])"
      ],
      "metadata": {
        "colab": {
          "base_uri": "https://localhost:8080/"
        },
        "id": "OOSDGIk8a_bH",
        "outputId": "a84d2cee-2f8c-41cd-b01c-a58b8e29d938"
      },
      "execution_count": null,
      "outputs": [
        {
          "output_type": "stream",
          "name": "stdout",
          "text": [
            "Phone\n"
          ]
        }
      ]
    },
    {
      "cell_type": "code",
      "source": [
        "#number of undelivered items\n",
        "undelivered_count = 0\n",
        "\n",
        "for order in orders:\n",
        "    delivery_status = order[4].strip()\n",
        "    if delivery_status != 'delivered':\n",
        "        undelivered_count += order[2]\n",
        "\n",
        "print(str(undelivered_count))"
      ],
      "metadata": {
        "colab": {
          "base_uri": "https://localhost:8080/"
        },
        "id": "-6uhFwitcA78",
        "outputId": "0ea0ef72-7e8b-407f-8eb4-235e705a6b45"
      },
      "execution_count": null,
      "outputs": [
        {
          "output_type": "stream",
          "name": "stdout",
          "text": [
            "5\n"
          ]
        }
      ]
    },
    {
      "cell_type": "code",
      "source": [
        "names=(\"John\",\"Mary\",\"Peter\")\n",
        "print(names)"
      ],
      "metadata": {
        "colab": {
          "base_uri": "https://localhost:8080/"
        },
        "id": "w-NmLEVdvniP",
        "outputId": "9d3304e9-79dc-475f-a7b1-4a2ce704028b"
      },
      "execution_count": null,
      "outputs": [
        {
          "output_type": "stream",
          "name": "stdout",
          "text": [
            "('John', 'Mary', 'Peter')\n"
          ]
        }
      ]
    },
    {
      "cell_type": "code",
      "source": [
        "len(names)"
      ],
      "metadata": {
        "colab": {
          "base_uri": "https://localhost:8080/"
        },
        "id": "mGYjyoE5DSh9",
        "outputId": "c4208909-f0b8-4feb-9a89-7ebe8cae4add"
      },
      "execution_count": null,
      "outputs": [
        {
          "output_type": "execute_result",
          "data": {
            "text/plain": [
              "3"
            ]
          },
          "metadata": {},
          "execution_count": 132
        }
      ]
    },
    {
      "cell_type": "code",
      "source": [
        "student_1,student_2,student_3=names"
      ],
      "metadata": {
        "id": "Z9FGWr1aDUJi"
      },
      "execution_count": null,
      "outputs": []
    },
    {
      "cell_type": "code",
      "source": [
        "print(student_1)"
      ],
      "metadata": {
        "colab": {
          "base_uri": "https://localhost:8080/"
        },
        "id": "0tnHgQl6DZya",
        "outputId": "10be1d89-63e1-4464-c434-eb27b1e07c45"
      },
      "execution_count": null,
      "outputs": [
        {
          "output_type": "stream",
          "name": "stdout",
          "text": [
            "John\n"
          ]
        }
      ]
    },
    {
      "cell_type": "code",
      "source": [
        "def add_sub(a,b):\n",
        "  sum=a+b\n",
        "  dif=a-b\n",
        "  return(sum,dif)"
      ],
      "metadata": {
        "id": "ur1LE9QfDfHv"
      },
      "execution_count": null,
      "outputs": []
    },
    {
      "cell_type": "code",
      "source": [
        "add_sub(2,3)"
      ],
      "metadata": {
        "colab": {
          "base_uri": "https://localhost:8080/"
        },
        "id": "23EsUK0yD0lC",
        "outputId": "3acd7ff0-a5ed-499c-bec0-5dccbdff050e"
      },
      "execution_count": null,
      "outputs": [
        {
          "output_type": "execute_result",
          "data": {
            "text/plain": [
              "(5, -1)"
            ]
          },
          "metadata": {},
          "execution_count": 136
        }
      ]
    },
    {
      "cell_type": "code",
      "source": [
        "addition,subtraction=add_sub(10,10)"
      ],
      "metadata": {
        "id": "3hnEAgKGD3KX"
      },
      "execution_count": null,
      "outputs": []
    },
    {
      "cell_type": "code",
      "source": [
        "print(addition)\n",
        "print(subtraction)"
      ],
      "metadata": {
        "colab": {
          "base_uri": "https://localhost:8080/"
        },
        "id": "PLDfdc7HD-Lh",
        "outputId": "b778d480-395e-4ef0-9686-b281e570d0c5"
      },
      "execution_count": null,
      "outputs": [
        {
          "output_type": "stream",
          "name": "stdout",
          "text": [
            "20\n",
            "0\n"
          ]
        }
      ]
    },
    {
      "cell_type": "code",
      "source": [
        "list_of_names=list(names)"
      ],
      "metadata": {
        "id": "L4Fho5V2EE_R"
      },
      "execution_count": null,
      "outputs": []
    },
    {
      "cell_type": "code",
      "source": [
        "type(list_of_names)"
      ],
      "metadata": {
        "colab": {
          "base_uri": "https://localhost:8080/"
        },
        "id": "dtI7EBKAE58L",
        "outputId": "eb3d8c1f-9dbe-4ebe-ef53-d891a085cedc"
      },
      "execution_count": null,
      "outputs": [
        {
          "output_type": "execute_result",
          "data": {
            "text/plain": [
              "list"
            ]
          },
          "metadata": {},
          "execution_count": 144
        }
      ]
    },
    {
      "cell_type": "code",
      "source": [
        "tuple(list_of_names)"
      ],
      "metadata": {
        "colab": {
          "base_uri": "https://localhost:8080/"
        },
        "id": "DHsC6sJHFMyG",
        "outputId": "a359c26c-b3fb-47ba-c5f3-6051552316fb"
      },
      "execution_count": null,
      "outputs": [
        {
          "output_type": "execute_result",
          "data": {
            "text/plain": [
              "('John', 'Mary', 'Peter')"
            ]
          },
          "metadata": {},
          "execution_count": 145
        }
      ]
    },
    {
      "cell_type": "code",
      "source": [
        "names[0]"
      ],
      "metadata": {
        "colab": {
          "base_uri": "https://localhost:8080/",
          "height": 35
        },
        "id": "AEF3SaFoFPjv",
        "outputId": "731c8508-b7dd-4ee3-8107-ef39b0bd43e6"
      },
      "execution_count": null,
      "outputs": [
        {
          "output_type": "execute_result",
          "data": {
            "text/plain": [
              "'John'"
            ],
            "application/vnd.google.colaboratory.intrinsic+json": {
              "type": "string"
            }
          },
          "metadata": {},
          "execution_count": 146
        }
      ]
    },
    {
      "cell_type": "code",
      "source": [
        "student_ages=[\"John\",20,\"Mary\",18]\n",
        "students= []\n",
        "ages= []\n",
        "for item in student_ages:\n",
        "  if type(item)== str:\n",
        "    students.append(item)\n",
        "  else:\n",
        "    ages.append(item)\n",
        "print(students)\n",
        "print(ages)"
      ],
      "metadata": {
        "colab": {
          "base_uri": "https://localhost:8080/"
        },
        "id": "5XJ3fLj7FdTb",
        "outputId": "c8f28d94-02a6-43f1-c425-e9faa762294b"
      },
      "execution_count": null,
      "outputs": [
        {
          "output_type": "stream",
          "name": "stdout",
          "text": [
            "['John', 'Mary']\n",
            "[20, 18]\n"
          ]
        }
      ]
    },
    {
      "cell_type": "code",
      "source": [
        "student_marks={\"John\":30,\n",
        "              \"Mary\":18,\n",
        "               \"Peter\":40,\n",
        "               }\n",
        "print(student_marks)"
      ],
      "metadata": {
        "colab": {
          "base_uri": "https://localhost:8080/"
        },
        "id": "lSz5S8O0HPP2",
        "outputId": "c2999644-6ce7-4acc-a612-107cb4405ba2"
      },
      "execution_count": null,
      "outputs": [
        {
          "output_type": "stream",
          "name": "stdout",
          "text": [
            "{'John': 30, 'Mary': 18, 'Peter': 40}\n"
          ]
        }
      ]
    },
    {
      "cell_type": "code",
      "source": [
        "student_marks[\"John\"]"
      ],
      "metadata": {
        "colab": {
          "base_uri": "https://localhost:8080/"
        },
        "id": "1axCsSasIv4C",
        "outputId": "54cc29a8-5e92-432a-ab56-76947b6d4f8d"
      },
      "execution_count": null,
      "outputs": [
        {
          "output_type": "execute_result",
          "data": {
            "text/plain": [
              "30"
            ]
          },
          "metadata": {},
          "execution_count": 155
        }
      ]
    },
    {
      "cell_type": "code",
      "source": [
        "student_marks[\"John\"]=50\n",
        "student_marks"
      ],
      "metadata": {
        "colab": {
          "base_uri": "https://localhost:8080/"
        },
        "id": "69jW_7pBJX3c",
        "outputId": "926e83f0-c763-4510-bc01-a592d74d0282"
      },
      "execution_count": null,
      "outputs": [
        {
          "output_type": "execute_result",
          "data": {
            "text/plain": [
              "{'John': 50, 'Mary': 18, 'Peter': 40}"
            ]
          },
          "metadata": {},
          "execution_count": 157
        }
      ]
    },
    {
      "cell_type": "code",
      "source": [
        "student_marks[\"Edward\"]=45\n",
        "student_marks"
      ],
      "metadata": {
        "colab": {
          "base_uri": "https://localhost:8080/"
        },
        "id": "8jam2pIvJptP",
        "outputId": "9dc5db40-53dd-4547-f9b4-c68759067a56"
      },
      "execution_count": null,
      "outputs": [
        {
          "output_type": "execute_result",
          "data": {
            "text/plain": [
              "{'John': 50, 'Mary': 18, 'Peter': 40, 'Edward': 45}"
            ]
          },
          "metadata": {},
          "execution_count": 159
        }
      ]
    },
    {
      "cell_type": "code",
      "source": [
        "student_marks.pop(\"John\")"
      ],
      "metadata": {
        "colab": {
          "base_uri": "https://localhost:8080/"
        },
        "id": "mtxg2_dTJy7t",
        "outputId": "7cd6551f-1488-4dd0-c75e-e39ba0caafa7"
      },
      "execution_count": null,
      "outputs": [
        {
          "output_type": "execute_result",
          "data": {
            "text/plain": [
              "50"
            ]
          },
          "metadata": {},
          "execution_count": 160
        }
      ]
    },
    {
      "cell_type": "code",
      "source": [
        "student_marks"
      ],
      "metadata": {
        "colab": {
          "base_uri": "https://localhost:8080/"
        },
        "id": "8--QKc5BKZhH",
        "outputId": "a42c5993-98c4-4637-8010-c6cf820980d8"
      },
      "execution_count": null,
      "outputs": [
        {
          "output_type": "execute_result",
          "data": {
            "text/plain": [
              "{'Mary': 18, 'Peter': 40, 'Edward': 45}"
            ]
          },
          "metadata": {},
          "execution_count": 161
        }
      ]
    },
    {
      "cell_type": "code",
      "source": [
        "student_marks.keys()"
      ],
      "metadata": {
        "colab": {
          "base_uri": "https://localhost:8080/"
        },
        "id": "9hR-ZDitKi3H",
        "outputId": "9363c6c2-2458-4947-b2e1-ac9509648426"
      },
      "execution_count": null,
      "outputs": [
        {
          "output_type": "execute_result",
          "data": {
            "text/plain": [
              "dict_keys(['Mary', 'Peter', 'Edward'])"
            ]
          },
          "metadata": {},
          "execution_count": 163
        }
      ]
    },
    {
      "cell_type": "code",
      "source": [
        "student_marks.values()"
      ],
      "metadata": {
        "colab": {
          "base_uri": "https://localhost:8080/"
        },
        "id": "UYNwXMkuK8Z7",
        "outputId": "7b12cd5a-4546-4a0a-b03f-a7252deffa58"
      },
      "execution_count": null,
      "outputs": [
        {
          "output_type": "execute_result",
          "data": {
            "text/plain": [
              "dict_values([18, 40, 45])"
            ]
          },
          "metadata": {},
          "execution_count": 164
        }
      ]
    },
    {
      "cell_type": "code",
      "source": [
        "student_marks.items()"
      ],
      "metadata": {
        "colab": {
          "base_uri": "https://localhost:8080/"
        },
        "id": "viV_mr2mLEHv",
        "outputId": "95f0cdde-02b3-4e97-c08c-b9c3d18e7362"
      },
      "execution_count": null,
      "outputs": [
        {
          "output_type": "execute_result",
          "data": {
            "text/plain": [
              "dict_items([('Mary', 18), ('Peter', 40), ('Edward', 45)])"
            ]
          },
          "metadata": {},
          "execution_count": 166
        }
      ]
    },
    {
      "cell_type": "code",
      "source": [
        "for keys in student_marks.keys():\n",
        "  print(keys)"
      ],
      "metadata": {
        "colab": {
          "base_uri": "https://localhost:8080/"
        },
        "id": "QXQgkozXLOpd",
        "outputId": "b070fad5-b33b-476f-b6b6-b99b3a6e808e"
      },
      "execution_count": null,
      "outputs": [
        {
          "output_type": "stream",
          "name": "stdout",
          "text": [
            "Mary\n",
            "Peter\n",
            "Edward\n"
          ]
        }
      ]
    },
    {
      "cell_type": "code",
      "source": [
        "for marks in student_marks.values():\n",
        "  print(marks)"
      ],
      "metadata": {
        "colab": {
          "base_uri": "https://localhost:8080/"
        },
        "id": "fCVU-sDFMbf2",
        "outputId": "80af4513-5350-4442-9b0b-5dcc4ed6e3e4"
      },
      "execution_count": null,
      "outputs": [
        {
          "output_type": "stream",
          "name": "stdout",
          "text": [
            "18\n",
            "40\n",
            "45\n"
          ]
        }
      ]
    },
    {
      "cell_type": "code",
      "source": [
        "for student, marks in student_marks.items():\n",
        "  print(student, \"scored\",marks)"
      ],
      "metadata": {
        "colab": {
          "base_uri": "https://localhost:8080/"
        },
        "id": "jd2QOcqCMj4v",
        "outputId": "7e019490-98f5-4fec-c2c3-95e5a2f6a3a6"
      },
      "execution_count": null,
      "outputs": [
        {
          "output_type": "stream",
          "name": "stdout",
          "text": [
            "Mary scored 18\n",
            "Peter scored 40\n",
            "Edward scored 45\n"
          ]
        }
      ]
    },
    {
      "cell_type": "code",
      "source": [
        "customer_data = {\n",
        "    \"Jane\":[\"Lamp\",500,\"20/02/2015\"],\n",
        "    \"Peter\":[\"bulb\",50,\"21/02/2015\"],\n",
        "    \"Alfred\":[\"Socket\",250,\"20/02/2015\"],\n",
        "    \"Eden\":[\"Lamp\",500,\"22/02/2015\"],\n",
        "}"
      ],
      "metadata": {
        "id": "MSlnuwFoM-lo"
      },
      "execution_count": null,
      "outputs": []
    },
    {
      "cell_type": "code",
      "source": [
        "max_value=0\n",
        "for val in customer_data.values():\n",
        "  if val[1] > max_value:\n",
        "    max_value=val[1]\n",
        "for key,val in customer_data.items():\n",
        "  if val[1]==max_value:\n",
        "    print(key,\"bought a\",val[0],\"for\",val[1],\"KES on\",val[2])"
      ],
      "metadata": {
        "colab": {
          "base_uri": "https://localhost:8080/"
        },
        "id": "vdT3fBdtPb7H",
        "outputId": "15ed8902-e51c-4e9e-b619-0e8a32f8a403"
      },
      "execution_count": null,
      "outputs": [
        {
          "output_type": "stream",
          "name": "stdout",
          "text": [
            "Jane bought a Lamp for 500 KES on 20/02/2015\n",
            "Eden bought a Lamp for 500 KES on 22/02/2015\n"
          ]
        }
      ]
    },
    {
      "cell_type": "code",
      "source": [
        "students_data = {\n",
        "    \"S001\": {\"name\": \"Alice\", \"age\": 20, \"score\": 88, \"passed\": True},\n",
        "    \"S002\": {\"name\": \"Bob\", \"age\": 22, \"score\": 76, \"passed\": True},\n",
        "    \"S003\": {\"name\": \"Charlie\", \"age\": 21, \"score\": 45, \"passed\": False},\n",
        "    \"S004\": {\"name\": \"David\", \"age\": 23, \"score\": 92, \"passed\": True},\n",
        "    \"S005\": {\"name\": \"Eva\", \"age\": 20, \"score\": 34, \"passed\": False}\n",
        "}"
      ],
      "metadata": {
        "id": "Qy3dgBdqQgiZ"
      },
      "execution_count": null,
      "outputs": []
    },
    {
      "cell_type": "code",
      "source": [
        "students_data[\"S006\"]={\"name\":\"Frank\",\"age\": 22, \"score\": 80, \"passed\":True}\n",
        "students_data"
      ],
      "metadata": {
        "colab": {
          "base_uri": "https://localhost:8080/"
        },
        "id": "ak5za34563li",
        "outputId": "4cc55391-4bcb-4ecd-b920-2de7c4617f0f"
      },
      "execution_count": null,
      "outputs": [
        {
          "output_type": "execute_result",
          "data": {
            "text/plain": [
              "{'S001': {'name': 'Alice', 'age': 20, 'score': 88, 'passed': True},\n",
              " 'S002': {'name': 'Bob', 'age': 22, 'score': 76, 'passed': True},\n",
              " 'S003': {'name': 'Charlie', 'age': 21, 'score': 45, 'passed': False},\n",
              " 'S004': {'name': 'David', 'age': 23, 'score': 92, 'passed': True},\n",
              " 'S005': {'name': 'Eva', 'age': 20, 'score': 34, 'passed': False},\n",
              " 'S006': {'name': 'Frank', 'age': 22, 'score': 80, 'passed': True}}"
            ]
          },
          "metadata": {},
          "execution_count": 2
        }
      ]
    },
    {
      "cell_type": "code",
      "source": [
        "top_performers=[student[\"name\"]for student in students_data.values()if student[\"score\"]>75]\n",
        "print(top_performers)"
      ],
      "metadata": {
        "colab": {
          "base_uri": "https://localhost:8080/"
        },
        "id": "Fcpopx1M-BD8",
        "outputId": "e646c25c-fa0f-489b-db37-413eef72a3ad"
      },
      "execution_count": null,
      "outputs": [
        {
          "output_type": "stream",
          "name": "stdout",
          "text": [
            "['Alice', 'Bob', 'David', 'Frank']\n"
          ]
        }
      ]
    },
    {
      "cell_type": "code",
      "source": [
        "def get_student_data(name):\n",
        "    for student in students_data.values():\n",
        "        if student[\"name\"].lower() == name.lower():\n",
        "            return student\n",
        "    return \"student not found\""
      ],
      "metadata": {
        "id": "gVXk_tE5BUnE"
      },
      "execution_count": null,
      "outputs": []
    },
    {
      "cell_type": "code",
      "source": [
        "print (get_student_data(\"frank\"))\n",
        "print(get_student_data(\"Pithon\"))"
      ],
      "metadata": {
        "colab": {
          "base_uri": "https://localhost:8080/"
        },
        "id": "4RG0rhxZFbl2",
        "outputId": "d31a8c9d-44da-43f5-c043-8f62c1926621"
      },
      "execution_count": null,
      "outputs": [
        {
          "output_type": "stream",
          "name": "stdout",
          "text": [
            "{'name': 'Frank', 'age': 22, 'score': 80, 'passed': True}\n",
            "student not found\n"
          ]
        }
      ]
    },
    {
      "cell_type": "code",
      "source": [
        "summary={\"total_students\": len(students_data),\n",
        "         \"students_passed\":sum(1 for student in students_data.values() if student[\"passed\"]),\n",
        "         \"highest_score\":max(students[\"score\"] for students in students_data.values()),\n",
        "         \"lowest_score\":min(students[\"score\"] for students in students_data.values())\n",
        "\n",
        "}\n",
        "print(summary)"
      ],
      "metadata": {
        "colab": {
          "base_uri": "https://localhost:8080/"
        },
        "id": "iXCPvQfnDRN_",
        "outputId": "3b5d992c-895d-4093-868f-03072933e9e8"
      },
      "execution_count": null,
      "outputs": [
        {
          "output_type": "stream",
          "name": "stdout",
          "text": [
            "{'total_students': 6, 'students_passed': 4, 'highest_score': 92, 'lowest_score': 34}\n"
          ]
        }
      ]
    },
    {
      "cell_type": "code",
      "source": [
        "students_passed=[]\n",
        "for student in students_data.values():\n",
        "  if student[\"passed\"]:\n",
        "    students_passed.append(1)\n",
        "students_passed"
      ],
      "metadata": {
        "id": "Yvzf3es9J8by",
        "colab": {
          "base_uri": "https://localhost:8080/"
        },
        "outputId": "cb2a0bad-3352-4cef-9d88-150cb1f44ee1"
      },
      "execution_count": null,
      "outputs": [
        {
          "output_type": "execute_result",
          "data": {
            "text/plain": [
              "[1, 1, 1, 1]"
            ]
          },
          "metadata": {},
          "execution_count": 22
        }
      ]
    },
    {
      "cell_type": "code",
      "source": [
        "len(students_passed)"
      ],
      "metadata": {
        "colab": {
          "base_uri": "https://localhost:8080/"
        },
        "id": "5V-ws_2-5xDB",
        "outputId": "5dff5224-5c62-45f0-bf28-0eff78b52e4e"
      },
      "execution_count": null,
      "outputs": [
        {
          "output_type": "execute_result",
          "data": {
            "text/plain": [
              "4"
            ]
          },
          "metadata": {},
          "execution_count": 23
        }
      ]
    },
    {
      "cell_type": "code",
      "source": [
        "student_scores = []\n",
        "for students in students_data.values():\n",
        "  student_scores.append(students[\"score\"])\n",
        "student_scores"
      ],
      "metadata": {
        "colab": {
          "base_uri": "https://localhost:8080/"
        },
        "id": "5MK5aXit2MB1",
        "outputId": "841c0f74-ab19-49df-b98c-c82b5bab6cbb"
      },
      "execution_count": null,
      "outputs": [
        {
          "output_type": "execute_result",
          "data": {
            "text/plain": [
              "[88, 76, 45, 92, 34, 80]"
            ]
          },
          "metadata": {},
          "execution_count": 19
        }
      ]
    },
    {
      "cell_type": "code",
      "source": [
        "max(student_scores)"
      ],
      "metadata": {
        "colab": {
          "base_uri": "https://localhost:8080/"
        },
        "id": "Q8YVvG3C2pbk",
        "outputId": "8b9a25f7-9563-4414-cb4d-9addd1ddf1b3"
      },
      "execution_count": null,
      "outputs": [
        {
          "output_type": "execute_result",
          "data": {
            "text/plain": [
              "92"
            ]
          },
          "metadata": {},
          "execution_count": 13
        }
      ]
    },
    {
      "cell_type": "code",
      "source": [
        "min(student_scores)"
      ],
      "metadata": {
        "colab": {
          "base_uri": "https://localhost:8080/"
        },
        "id": "ibfzZl1K2vcX",
        "outputId": "166583c9-4ce5-43e7-817f-523b94663a72"
      },
      "execution_count": null,
      "outputs": [
        {
          "output_type": "execute_result",
          "data": {
            "text/plain": [
              "34"
            ]
          },
          "metadata": {},
          "execution_count": 18
        }
      ]
    },
    {
      "cell_type": "code",
      "source": [
        "# while loop"
      ],
      "metadata": {
        "id": "cmS5YVeT6H82"
      },
      "execution_count": null,
      "outputs": []
    },
    {
      "cell_type": "code",
      "source": [
        "counter=5\n",
        "while counter>0:\n",
        "  print(\"Hi\"*counter)\n",
        "  counter=counter-1"
      ],
      "metadata": {
        "colab": {
          "base_uri": "https://localhost:8080/"
        },
        "id": "50vPcQP_Rs-K",
        "outputId": "079e9a9f-2a4d-43cc-f17c-046297386cdb"
      },
      "execution_count": null,
      "outputs": [
        {
          "output_type": "stream",
          "name": "stdout",
          "text": [
            "HiHiHiHiHi\n",
            "HiHiHiHi\n",
            "HiHiHi\n",
            "HiHi\n",
            "Hi\n"
          ]
        }
      ]
    },
    {
      "cell_type": "code",
      "source": [
        "valid=False\n",
        "while not valid:\n",
        "  num=input(\"Enter a value\")\n",
        "  if num.isnumeric():\n",
        "    valid=True"
      ],
      "metadata": {
        "colab": {
          "base_uri": "https://localhost:8080/"
        },
        "id": "ZasQQG81R6nc",
        "outputId": "450046f4-f4eb-4c40-e8e5-4f5274cdeff3"
      },
      "execution_count": null,
      "outputs": [
        {
          "name": "stdout",
          "output_type": "stream",
          "text": [
            "Enter a valuet\n",
            "Enter a valuew\n",
            "Enter a valueo\n",
            "Enter a value12\n"
          ]
        }
      ]
    },
    {
      "cell_type": "code",
      "source": [
        "while True:\n",
        "  num=input(\"Enter a value\")\n",
        "  if num.isnumeric():\n",
        "    break"
      ],
      "metadata": {
        "colab": {
          "base_uri": "https://localhost:8080/"
        },
        "id": "Hiko4ChESxFW",
        "outputId": "f43df5f4-09ce-4ab5-a57d-012092b06cdf"
      },
      "execution_count": null,
      "outputs": [
        {
          "name": "stdout",
          "output_type": "stream",
          "text": [
            "Enter a valuer\n",
            "Enter a valuej\n",
            "Enter a value12\n"
          ]
        }
      ]
    },
    {
      "cell_type": "code",
      "source": [
        "ages=[18,20,32,40]\n",
        "for age in ages:\n",
        "  if age==32:\n",
        "    print(\"found\")\n",
        "    break\n",
        "  else:\n",
        "    print(\"not yet found\")"
      ],
      "metadata": {
        "colab": {
          "base_uri": "https://localhost:8080/"
        },
        "id": "rPIQclkwTmLN",
        "outputId": "5c855dca-b4aa-4ce6-ab6d-8d3f4c475ab9"
      },
      "execution_count": null,
      "outputs": [
        {
          "output_type": "stream",
          "name": "stdout",
          "text": [
            "not yet found\n",
            "not yet found\n",
            "found\n"
          ]
        }
      ]
    },
    {
      "cell_type": "code",
      "source": [
        "ages=[20,15,30,12,30,45,23,19,40,33]\n",
        "for age in ages:\n",
        "  if age < 21:\n",
        "    continue\n",
        "  elif age==40:\n",
        "    break\n",
        "  print(age,\"is a valid age\")"
      ],
      "metadata": {
        "colab": {
          "base_uri": "https://localhost:8080/"
        },
        "id": "Dya0c6ZLUKhE",
        "outputId": "3bf4ee9e-0629-48d5-eef6-85bf1c41d2fa"
      },
      "execution_count": null,
      "outputs": [
        {
          "output_type": "stream",
          "name": "stdout",
          "text": [
            "30 is a valid age\n",
            "30 is a valid age\n",
            "45 is a valid age\n",
            "23 is a valid age\n"
          ]
        }
      ]
    },
    {
      "cell_type": "code",
      "source": [
        "bank_accounts = [\"John\",\"Password!.\",\"James\",\"12ry2yu2\",\"Mercy\",\"46382\",\"Harriet\",\"gdsghd\",\"Edward\",\"tryeu\",\"Ann\",\"wsxft\"]\n",
        "\n",
        "bank_ledger = {\n",
        "    \"John\":{\"1\":[\"deposit\",15000,\"20/02/2025\"],\n",
        "            \"2\":[\"deposit\",5000,\"22/02/2025\"],\n",
        "            \"3\":[\"withdrawal\",2500,\"23/02/2025\"],\n",
        "            \"4\":[\"deposit\",250,\"23/02/2025\"],\n",
        "            },\n",
        "    \"Harriet\":{\"1\":[\"deposit\",5800,\"19/02/2025\"],\n",
        "            \"2\":[\"withdrawal\",3000,\"20/02/2025\"],\n",
        "            \"3\":[\"withdrawal\",2000,\"21/02/2025\"],\n",
        "            \"4\":[\"deposit\",7000,\"22/02/2025\"]\n",
        "            },\n",
        "    \"James\":{\"1\":[\"deposit\",10000,\"19/02/2025\"],\n",
        "            \"2\":[\"withdrawal\",2650,\"19/02/2025\"],\n",
        "            \"3\":[\"withdrawal\",1800,\"21/02/2025\"],\n",
        "            \"4\":[\"withdraw\",3600,\"22/02/2025\"]\n",
        "            },\n",
        "    \"Ann\":{\"1\":[\"deposit\",3000,\"19/02/2025\"],\n",
        "            \"2\":[\"deposit\",3500,\"19/02/2025\"],\n",
        "            \"3\":[\"deposit\",2200,\"21/02/2025\"],\n",
        "            \"4\":[\"withdraw\",8700,\"22/02/2025\"]\n",
        "          }\n",
        "}"
      ],
      "metadata": {
        "id": "frgXuBZ8Vvn_"
      },
      "execution_count": null,
      "outputs": []
    },
    {
      "cell_type": "code",
      "source": [
        "def calculate_balance(ledger):\n",
        "    balance = 0\n",
        "    for transaction_id, transaction in ledger.items():\n",
        "        operation, amount, date = transaction\n",
        "        if operation == \"deposit\":\n",
        "            balance += amount\n",
        "        elif operation in [\"withdrawal\", \"withdraw\"]:\n",
        "            balance -= amount\n",
        "    return balance\n",
        "\n",
        "def display_ledger(ledger):\n",
        "    print(\"\\nTransaction History:\")\n",
        "    for transaction_id in sorted(ledger.keys(), key=lambda x: int(x)):\n",
        "        operation, amount, date = ledger[transaction_id]\n",
        "        if operation == \"deposit\":\n",
        "            print(f\"You deposited {amount} on {date}\")\n",
        "        elif operation in [\"withdrawal\", \"withdraw\"]:\n",
        "            print(f\"You withdrew {amount} on {date}\")\n",
        "    print(f\"\\nCurrent Balance: {calculate_balance(ledger)}\")\n",
        "\n",
        "def bank_system():\n",
        "    print(\"Welcome to ABC Bank!\")\n",
        "\n",
        "\n",
        "    logged_in = False\n",
        "    current_user = None\n",
        "\n",
        "    while not logged_in:\n",
        "        name = input(\"\\nEnter your name: \").strip()\n",
        "\n",
        "        if name not in bank_accounts:\n",
        "            print(\"Account not found. Please try again.\")\n",
        "            continue\n",
        "\n",
        "        password_index = bank_accounts.index(name) + 1\n",
        "        correct_password = bank_accounts[password_index]\n",
        "\n",
        "        password = input(\"Enter your password: \").strip()\n",
        "\n",
        "        if password != correct_password:\n",
        "            print(\"Incorrect password. Please try again.\")\n",
        "            continue\n",
        "\n",
        "        print(f\"\\nLogin successful! Welcome, {name}.\")\n",
        "        logged_in = True\n",
        "        current_user = name\n",
        "\n",
        "    while True:\n",
        "        print(\"\\nAvailable operations:\")\n",
        "        print(\"1. Deposit\")\n",
        "        print(\"2. Withdraw\")\n",
        "        print(\"3. View my ledger\")\n",
        "        print(\"4. Exit\")\n",
        "\n",
        "        choice = input(\"\\nWhich operation do you want to do? (1-4): \").strip()\n",
        "\n",
        "        if choice == \"1\":\n",
        "            while True:\n",
        "                amount_input = input(\"Enter amount to deposit: \").strip()\n",
        "                if not amount_input.isdigit() or int(amount_input) <= 0:\n",
        "                    print(\"Invalid amount. Please enter a positive number.\")\n",
        "                    continue\n",
        "                amount = int(amount_input)\n",
        "                break\n",
        "\n",
        "\n",
        "            today = \"23/02/2025\"\n",
        "\n",
        "            transaction_id = str(len(bank_ledger[current_user]) + 1)\n",
        "\n",
        "            bank_ledger[current_user][transaction_id] = [\"deposit\", amount, today]\n",
        "\n",
        "            new_balance = calculate_balance(bank_ledger[current_user])\n",
        "            print(f\"Deposit successful! Your new balance is {new_balance}\")\n",
        "\n",
        "        elif choice == \"2\":\n",
        "            current_balance = calculate_balance(bank_ledger[current_user])\n",
        "\n",
        "            while True:\n",
        "                amount_input = input(\"Enter amount to withdraw: \").strip()\n",
        "                if not amount_input.isdigit() or int(amount_input) <= 0:\n",
        "                    print(\"Invalid amount. Please enter a positive number.\")\n",
        "                    continue\n",
        "\n",
        "                amount = int(amount_input)\n",
        "\n",
        "                if amount > current_balance:\n",
        "                    print(f\"Insufficient funds. Your current balance is {current_balance}.\")\n",
        "                    continue\n",
        "\n",
        "                break\n",
        "\n",
        "            today = \"23/02/2025\"\n",
        "\n",
        "            transaction_id = str(len(bank_ledger[current_user]) + 1)\n",
        "\n",
        "            bank_ledger[current_user][transaction_id] = [\"withdraw\", amount, today]\n",
        "\n",
        "            new_balance = calculate_balance(bank_ledger[current_user])\n",
        "            print(f\"Withdrawal successful! Your new balance is {new_balance}\")\n",
        "\n",
        "        elif choice == \"3\":\n",
        "            display_ledger(bank_ledger[current_user])\n",
        "\n",
        "        elif choice == \"4\":\n",
        "            print(f\"\\nGoodbye, {current_user}!\")\n",
        "            break\n",
        "\n",
        "        else:\n",
        "            print(\"Invalid choice. Please enter a number between 1 and 4.\")\n",
        "            continue\n",
        "\n",
        "        while True:\n",
        "            another = input(\"\\nDo you want to perform another operation? (yes/no): \").strip().lower()\n",
        "            if another in [\"yes\", \"no\"]:\n",
        "                break\n",
        "            print(\"Please enter 'yes' or 'no'.\")\n",
        "\n",
        "        if another == \"no\":\n",
        "            print(f\"\\nGoodbye, {current_user}!\")\n",
        "            break\n",
        "\n",
        "bank_system()"
      ],
      "metadata": {
        "colab": {
          "base_uri": "https://localhost:8080/"
        },
        "id": "8SwXHbRY5axC",
        "outputId": "311d0e94-63fa-4e13-f051-0a803fed6f38"
      },
      "execution_count": null,
      "outputs": [
        {
          "output_type": "stream",
          "name": "stdout",
          "text": [
            "Welcome to ABC Bank!\n",
            "\n",
            "Enter your name: John\n",
            "Enter your password: Password!.\n",
            "\n",
            "Login successful! Welcome, John.\n",
            "\n",
            "Available operations:\n",
            "1. Deposit\n",
            "2. Withdraw\n",
            "3. View my ledger\n",
            "4. Exit\n",
            "\n",
            "Which operation do you want to do? (1-4): 4\n",
            "\n",
            "Goodbye, John!\n"
          ]
        }
      ]
    },
    {
      "cell_type": "code",
      "source": [
        "# error handling"
      ],
      "metadata": {
        "id": "VOesi3jQ6Gyv"
      },
      "execution_count": null,
      "outputs": []
    },
    {
      "cell_type": "code",
      "source": [
        "#syntax error\n",
        "print(\"Hello World)"
      ],
      "metadata": {
        "colab": {
          "base_uri": "https://localhost:8080/",
          "height": 106
        },
        "id": "bP5pbGGHIKJC",
        "outputId": "a7dd8a6a-803b-4ec1-f3ef-fed320ea9900"
      },
      "execution_count": null,
      "outputs": [
        {
          "output_type": "error",
          "ename": "SyntaxError",
          "evalue": "unterminated string literal (detected at line 1) (ipython-input-2-2771583741.py, line 1)",
          "traceback": [
            "\u001b[0;36m  File \u001b[0;32m\"/tmp/ipython-input-2-2771583741.py\"\u001b[0;36m, line \u001b[0;32m1\u001b[0m\n\u001b[0;31m    print(\"Hello World)\u001b[0m\n\u001b[0m          ^\u001b[0m\n\u001b[0;31mSyntaxError\u001b[0m\u001b[0;31m:\u001b[0m unterminated string literal (detected at line 1)\n"
          ]
        }
      ]
    },
    {
      "cell_type": "code",
      "source": [
        "#name error\n",
        "name= \"John\"\n",
        "print(Name)"
      ],
      "metadata": {
        "colab": {
          "base_uri": "https://localhost:8080/",
          "height": 159
        },
        "id": "EfVONoIbIumI",
        "outputId": "a8d065f2-44c5-4931-cba6-8e14e22bf520"
      },
      "execution_count": null,
      "outputs": [
        {
          "output_type": "error",
          "ename": "NameError",
          "evalue": "name 'Name' is not defined",
          "traceback": [
            "\u001b[0;31m---------------------------------------------------------------------------\u001b[0m",
            "\u001b[0;31mNameError\u001b[0m                                 Traceback (most recent call last)",
            "\u001b[0;32m/tmp/ipython-input-4-1786731770.py\u001b[0m in \u001b[0;36m<cell line: 0>\u001b[0;34m()\u001b[0m\n\u001b[1;32m      1\u001b[0m \u001b[0mname\u001b[0m\u001b[0;34m=\u001b[0m \u001b[0;34m\"John\"\u001b[0m\u001b[0;34m\u001b[0m\u001b[0;34m\u001b[0m\u001b[0m\n\u001b[0;32m----> 2\u001b[0;31m \u001b[0mprint\u001b[0m\u001b[0;34m(\u001b[0m\u001b[0mName\u001b[0m\u001b[0;34m)\u001b[0m\u001b[0;34m\u001b[0m\u001b[0;34m\u001b[0m\u001b[0m\n\u001b[0m",
            "\u001b[0;31mNameError\u001b[0m: name 'Name' is not defined"
          ]
        }
      ]
    },
    {
      "cell_type": "code",
      "source": [
        "# index error\n",
        "ages=[12,40,50,60]\n",
        "print(ages[5])"
      ],
      "metadata": {
        "colab": {
          "base_uri": "https://localhost:8080/",
          "height": 159
        },
        "id": "NBfsPD5CJu37",
        "outputId": "d4af9e78-c816-4f51-ca27-5445cba02fdb"
      },
      "execution_count": null,
      "outputs": [
        {
          "output_type": "error",
          "ename": "IndexError",
          "evalue": "list index out of range",
          "traceback": [
            "\u001b[0;31m---------------------------------------------------------------------------\u001b[0m",
            "\u001b[0;31mIndexError\u001b[0m                                Traceback (most recent call last)",
            "\u001b[0;32m/tmp/ipython-input-5-1472866766.py\u001b[0m in \u001b[0;36m<cell line: 0>\u001b[0;34m()\u001b[0m\n\u001b[1;32m      1\u001b[0m \u001b[0mages\u001b[0m\u001b[0;34m=\u001b[0m\u001b[0;34m[\u001b[0m\u001b[0;36m12\u001b[0m\u001b[0;34m,\u001b[0m\u001b[0;36m40\u001b[0m\u001b[0;34m,\u001b[0m\u001b[0;36m50\u001b[0m\u001b[0;34m,\u001b[0m\u001b[0;36m60\u001b[0m\u001b[0;34m]\u001b[0m\u001b[0;34m\u001b[0m\u001b[0;34m\u001b[0m\u001b[0m\n\u001b[0;32m----> 2\u001b[0;31m \u001b[0mprint\u001b[0m\u001b[0;34m(\u001b[0m\u001b[0mages\u001b[0m\u001b[0;34m[\u001b[0m\u001b[0;36m5\u001b[0m\u001b[0;34m]\u001b[0m\u001b[0;34m)\u001b[0m\u001b[0;34m\u001b[0m\u001b[0;34m\u001b[0m\u001b[0m\n\u001b[0m",
            "\u001b[0;31mIndexError\u001b[0m: list index out of range"
          ]
        }
      ]
    },
    {
      "cell_type": "code",
      "source": [
        "# key error\n",
        "student_marks ={\"John\":20,\"Mary\":30}\n",
        "print(student_marks[\"Peter\"])"
      ],
      "metadata": {
        "colab": {
          "base_uri": "https://localhost:8080/",
          "height": 159
        },
        "id": "ydOMOD9-KWhA",
        "outputId": "418053f6-1202-4377-fa8b-cb8a8719382f"
      },
      "execution_count": null,
      "outputs": [
        {
          "output_type": "error",
          "ename": "KeyError",
          "evalue": "'Peter'",
          "traceback": [
            "\u001b[0;31m---------------------------------------------------------------------------\u001b[0m",
            "\u001b[0;31mKeyError\u001b[0m                                  Traceback (most recent call last)",
            "\u001b[0;32m/tmp/ipython-input-12-3633688896.py\u001b[0m in \u001b[0;36m<cell line: 0>\u001b[0;34m()\u001b[0m\n\u001b[1;32m      1\u001b[0m \u001b[0mstudent_marks\u001b[0m \u001b[0;34m=\u001b[0m\u001b[0;34m{\u001b[0m\u001b[0;34m\"John\"\u001b[0m\u001b[0;34m:\u001b[0m\u001b[0;36m20\u001b[0m\u001b[0;34m,\u001b[0m\u001b[0;34m\"Mary\"\u001b[0m\u001b[0;34m:\u001b[0m\u001b[0;36m30\u001b[0m\u001b[0;34m}\u001b[0m\u001b[0;34m\u001b[0m\u001b[0;34m\u001b[0m\u001b[0m\n\u001b[0;32m----> 2\u001b[0;31m \u001b[0mprint\u001b[0m\u001b[0;34m(\u001b[0m\u001b[0mstudent_marks\u001b[0m\u001b[0;34m[\u001b[0m\u001b[0;34m\"Peter\"\u001b[0m\u001b[0;34m]\u001b[0m\u001b[0;34m)\u001b[0m\u001b[0;34m\u001b[0m\u001b[0;34m\u001b[0m\u001b[0m\n\u001b[0m",
            "\u001b[0;31mKeyError\u001b[0m: 'Peter'"
          ]
        }
      ]
    },
    {
      "cell_type": "code",
      "source": [
        "25/0"
      ],
      "metadata": {
        "colab": {
          "base_uri": "https://localhost:8080/",
          "height": 141
        },
        "id": "OeSu8kdqLPgW",
        "outputId": "18792f28-0dd8-4f34-cfa0-c48ce199b88f"
      },
      "execution_count": null,
      "outputs": [
        {
          "output_type": "error",
          "ename": "ZeroDivisionError",
          "evalue": "division by zero",
          "traceback": [
            "\u001b[0;31m---------------------------------------------------------------------------\u001b[0m",
            "\u001b[0;31mZeroDivisionError\u001b[0m                         Traceback (most recent call last)",
            "\u001b[0;32m/tmp/ipython-input-9-1020363729.py\u001b[0m in \u001b[0;36m<cell line: 0>\u001b[0;34m()\u001b[0m\n\u001b[0;32m----> 1\u001b[0;31m \u001b[0;36m25\u001b[0m\u001b[0;34m/\u001b[0m\u001b[0;36m0\u001b[0m\u001b[0;34m\u001b[0m\u001b[0;34m\u001b[0m\u001b[0m\n\u001b[0m",
            "\u001b[0;31mZeroDivisionError\u001b[0m: division by zero"
          ]
        }
      ]
    },
    {
      "cell_type": "code",
      "source": [
        "# value error\n",
        "int(\"one\")"
      ],
      "metadata": {
        "colab": {
          "base_uri": "https://localhost:8080/",
          "height": 159
        },
        "id": "KCWYCZu2LpuC",
        "outputId": "5d3aa50a-94e1-4e6c-fba0-a8dab971529e"
      },
      "execution_count": null,
      "outputs": [
        {
          "output_type": "error",
          "ename": "ValueError",
          "evalue": "invalid literal for int() with base 10: 'one'",
          "traceback": [
            "\u001b[0;31m---------------------------------------------------------------------------\u001b[0m",
            "\u001b[0;31mValueError\u001b[0m                                Traceback (most recent call last)",
            "\u001b[0;32m/tmp/ipython-input-10-4234753452.py\u001b[0m in \u001b[0;36m<cell line: 0>\u001b[0;34m()\u001b[0m\n\u001b[1;32m      1\u001b[0m \u001b[0;31m# value error\u001b[0m\u001b[0;34m\u001b[0m\u001b[0;34m\u001b[0m\u001b[0m\n\u001b[0;32m----> 2\u001b[0;31m \u001b[0mint\u001b[0m\u001b[0;34m(\u001b[0m\u001b[0;34m\"one\"\u001b[0m\u001b[0;34m)\u001b[0m\u001b[0;34m\u001b[0m\u001b[0;34m\u001b[0m\u001b[0m\n\u001b[0m",
            "\u001b[0;31mValueError\u001b[0m: invalid literal for int() with base 10: 'one'"
          ]
        }
      ]
    },
    {
      "cell_type": "code",
      "source": [
        "# type error\n",
        "\"one\"+1"
      ],
      "metadata": {
        "colab": {
          "base_uri": "https://localhost:8080/",
          "height": 159
        },
        "id": "Ji7H5-cLMWSD",
        "outputId": "13e80e36-2e9c-46db-a86b-0c97d3b57605"
      },
      "execution_count": null,
      "outputs": [
        {
          "output_type": "error",
          "ename": "TypeError",
          "evalue": "can only concatenate str (not \"int\") to str",
          "traceback": [
            "\u001b[0;31m---------------------------------------------------------------------------\u001b[0m",
            "\u001b[0;31mTypeError\u001b[0m                                 Traceback (most recent call last)",
            "\u001b[0;32m/tmp/ipython-input-11-3868486567.py\u001b[0m in \u001b[0;36m<cell line: 0>\u001b[0;34m()\u001b[0m\n\u001b[1;32m      1\u001b[0m \u001b[0;31m# type error\u001b[0m\u001b[0;34m\u001b[0m\u001b[0;34m\u001b[0m\u001b[0m\n\u001b[0;32m----> 2\u001b[0;31m \u001b[0;34m\"one\"\u001b[0m\u001b[0;34m+\u001b[0m\u001b[0;36m1\u001b[0m\u001b[0;34m\u001b[0m\u001b[0;34m\u001b[0m\u001b[0m\n\u001b[0m",
            "\u001b[0;31mTypeError\u001b[0m: can only concatenate str (not \"int\") to str"
          ]
        }
      ]
    },
    {
      "cell_type": "code",
      "source": [
        "# exception handling\n",
        "try:\n",
        "  a= int(input(\"Enter Numerator\"))\n",
        "  b=int(input(\"Enter Denominator\"))\n",
        "  result= a/b\n",
        "  print(\"Result\", result)\n",
        "except:\n",
        "  print(\"You cannot divide by zero\")"
      ],
      "metadata": {
        "colab": {
          "base_uri": "https://localhost:8080/"
        },
        "id": "JBe6yebfMo9a",
        "outputId": "2ed9d059-d868-421a-b301-6cb3cdc52e82"
      },
      "execution_count": null,
      "outputs": [
        {
          "output_type": "stream",
          "name": "stdout",
          "text": [
            "Enter Numerator23\n",
            "Enter Denominator0\n",
            "You cannot divide by zero\n"
          ]
        }
      ]
    },
    {
      "cell_type": "code",
      "source": [
        "try:\n",
        "  num_1= int(input(\"Enter the first number\"))\n",
        "  num_2= int(input(\"Enter the second number\"))\n",
        "  result= num_1/num_2\n",
        "except ZeroDivisionError:\n",
        "  print(\"You cannot divide by zero\")\n",
        "except ValueError:\n",
        "  print(\"Invalid value. Numerical value needed.\")\n",
        "except:\n",
        "  print(\"Something went wrong.\")"
      ],
      "metadata": {
        "colab": {
          "base_uri": "https://localhost:8080/"
        },
        "id": "nIcALYBUPb3G",
        "outputId": "1d173430-e4f1-47bb-ab00-b85ff1448bec"
      },
      "execution_count": null,
      "outputs": [
        {
          "output_type": "stream",
          "name": "stdout",
          "text": [
            "Something went wrong.\n"
          ]
        }
      ]
    },
    {
      "cell_type": "code",
      "source": [
        "try:\n",
        "  user_creds ={\"John\":\"Passwr\",\"Mercy\":\"Passw\"}\n",
        "  name = input(\"What is your name?\")\n",
        "  password = input(\"What is your password?\")\n",
        "  if user_creds[name]==password:\n",
        "    print(\"Welcome\",name)\n",
        "  else:\n",
        "    print(\"Invalid credentials\")\n",
        "except KeyError:\n",
        "  print(\"The user does not exist\")\n",
        "else:\n",
        "  age=int(input(\"What is your age?\"))\n",
        "  print(name +\"'s\",age, \"years old\")"
      ],
      "metadata": {
        "colab": {
          "base_uri": "https://localhost:8080/"
        },
        "id": "o4giUGLrPhXF",
        "outputId": "c45a71a4-4a57-46ee-c660-bb3f17ba6ab5"
      },
      "execution_count": null,
      "outputs": [
        {
          "output_type": "stream",
          "name": "stdout",
          "text": [
            "What is your name?John\n",
            "What is your password?Passwr\n",
            "Welcome John\n",
            "What is your age?20\n",
            "John's 20 years old\n"
          ]
        }
      ]
    },
    {
      "cell_type": "code",
      "source": [
        "while True:\n",
        "  try:\n",
        "    num_1=int(input(\"Enter the first number:\"))\n",
        "    num_2=int(input(\"Enter the second number:\"))\n",
        "    result= num_1/num_2\n",
        "  except ValueError:\n",
        "    print(\"Invalid value. Please enter the a value which is a number.\")\n",
        "  except ZeroDivisionError:\n",
        "    print(\"You cannot divide a number by zero\")\n",
        "  else:\n",
        "    print(result)\n",
        "  break"
      ],
      "metadata": {
        "colab": {
          "base_uri": "https://localhost:8080/"
        },
        "id": "G4AcR8KsUI8e",
        "outputId": "c6a24aae-cc95-4b61-bde8-46d33d20d2ad"
      },
      "execution_count": null,
      "outputs": [
        {
          "output_type": "stream",
          "name": "stdout",
          "text": [
            "Enter the first number:12\n",
            "Enter the second number:3\n",
            "4.0\n"
          ]
        }
      ]
    },
    {
      "cell_type": "code",
      "source": [
        "file = open(\"example.txt\",\"r\")\n",
        "content = file.read()\n",
        "print(content)\n",
        "file.close()\n"
      ],
      "metadata": {
        "colab": {
          "base_uri": "https://localhost:8080/"
        },
        "id": "pLuTxrrraLcU",
        "outputId": "b6203206-f563-4834-87fa-611cd0a437ce"
      },
      "execution_count": null,
      "outputs": [
        {
          "output_type": "stream",
          "name": "stdout",
          "text": [
            "Welcome to Python Programming!\n",
            "This file contains multiple lines.\n",
            "You can read this file line by line.\n",
            "File handling is very useful.\n",
            "Let's learn by doing.\n"
          ]
        }
      ]
    },
    {
      "cell_type": "code",
      "source": [
        "file = open(\"example.txt\",\"r\")\n",
        "line_1 = file.readline()\n",
        "all_lines= file.readlines()\n",
        "file.close()\n",
        "print(line_1)\n",
        "print(all_lines)"
      ],
      "metadata": {
        "colab": {
          "base_uri": "https://localhost:8080/"
        },
        "id": "s1KL_1lCxAgN",
        "outputId": "627e6716-9416-4964-ea1f-d77743ea982b"
      },
      "execution_count": null,
      "outputs": [
        {
          "output_type": "stream",
          "name": "stdout",
          "text": [
            "Welcome to Python Programming!\n",
            "\n",
            "['This file contains multiple lines.\\n', 'You can read this file line by line.\\n', 'File handling is very useful.\\n', \"Let's learn by doing.\"]\n"
          ]
        }
      ]
    },
    {
      "cell_type": "code",
      "source": [
        "file = open(\"output.txt\",\"w\")\n",
        "file.write(\"This is a new file.\\n\")\n",
        "file.write(\"Hello!\\n\")\n",
        "file.close()"
      ],
      "metadata": {
        "id": "dGrvC9gSxvP3"
      },
      "execution_count": null,
      "outputs": []
    },
    {
      "cell_type": "code",
      "source": [
        "file=open(\"output.txt\",\"a\")\n",
        "file.write(\"Adding more content...\\n\")\n",
        "file.close()"
      ],
      "metadata": {
        "id": "r--5WRFtyfq_"
      },
      "execution_count": null,
      "outputs": []
    },
    {
      "cell_type": "code",
      "source": [
        "with open(\"example.txt\",\"r\")as file:\n",
        "  all_lines = file.readlines()\n",
        "  print(all_lines)"
      ],
      "metadata": {
        "colab": {
          "base_uri": "https://localhost:8080/"
        },
        "id": "7ytox6W2zhZM",
        "outputId": "d8510cbe-5722-409f-ecf2-ca2a4092b781"
      },
      "execution_count": null,
      "outputs": [
        {
          "output_type": "stream",
          "name": "stdout",
          "text": [
            "['Welcome to Python Programming!\\n', 'This file contains multiple lines.\\n', 'You can read this file line by line.\\n', 'File handling is very useful.\\n', \"Let's learn by doing.\"]\n"
          ]
        }
      ]
    },
    {
      "cell_type": "code",
      "source": [
        "# copying a file\n",
        "with open(\"source.txt\", \"r\") as source, open(\"destination.txt\",\"w\") as dest:\n",
        "  for line in source:\n",
        "    dest.write(line)"
      ],
      "metadata": {
        "id": "cktJ2Nl_0-a4"
      },
      "execution_count": null,
      "outputs": []
    },
    {
      "cell_type": "code",
      "source": [
        "try:\n",
        "  with open(\"missing.txt\",\"r\") as file:\n",
        "    content = file.read\n",
        "except FileNotFoundError:\n",
        "  print(\"File not found\")"
      ],
      "metadata": {
        "colab": {
          "base_uri": "https://localhost:8080/"
        },
        "id": "YL3yiFan13Oo",
        "outputId": "9cd263ff-aad0-4f98-c603-ac38873ea31c"
      },
      "execution_count": null,
      "outputs": [
        {
          "output_type": "stream",
          "name": "stdout",
          "text": [
            "File not found\n"
          ]
        }
      ]
    },
    {
      "cell_type": "code",
      "source": [
        "# csv library\n",
        "import csv\n",
        "\n",
        "contents =[]\n",
        "with open(\"data.csv\",\"r\") as file:\n",
        "  reader = csv.reader(file)\n",
        "  contents=list(reader)\n",
        "  for row in reader:\n",
        "    print(row)"
      ],
      "metadata": {
        "id": "K-6Vl7xL2ghA"
      },
      "execution_count": null,
      "outputs": []
    },
    {
      "cell_type": "code",
      "source": [
        "print(contents)"
      ],
      "metadata": {
        "colab": {
          "base_uri": "https://localhost:8080/"
        },
        "id": "xZKk7ASY4pZA",
        "outputId": "515783b3-ed2b-4751-86ee-3721a3f9bf7a"
      },
      "execution_count": null,
      "outputs": [
        {
          "output_type": "stream",
          "name": "stdout",
          "text": [
            "[['Name', 'Age', 'Grade'], ['Alice', '14', 'A'], ['Bob', '15', 'B'], ['Charlie', '13', 'A'], ['David', '14', 'C'], ['Eve', '15', 'A']]\n"
          ]
        }
      ]
    },
    {
      "cell_type": "code",
      "source": [
        "class Student:\n",
        "  def __init__(self,name,age,grade):\n",
        "    self.name=name\n",
        "    self.age=age\n",
        "    self.grade=grade\n",
        "\n",
        "  def greet(self):\n",
        "    print(f\"Hello, my name is {self.name} and I am {self.age} years old\")\n",
        "\n",
        "  def is_passed(self):\n",
        "    return self.grade >=50\n",
        "\n",
        "s1 = Student(\"Pithon\",21,76)\n",
        "\n",
        "s2 = Student(\"Ian\",25,65)\n",
        "\n",
        "s3 = Student(\"Keith\",21,55)\n",
        "\n",
        "print(s1)\n",
        "print(s1.name)\n",
        "print(s1.greet())"
      ],
      "metadata": {
        "id": "4PwE6L1m4vVw",
        "colab": {
          "base_uri": "https://localhost:8080/"
        },
        "outputId": "bda368ac-8183-4910-d99c-c9304418ccb6"
      },
      "execution_count": 13,
      "outputs": [
        {
          "output_type": "stream",
          "name": "stdout",
          "text": [
            "<__main__.Student object at 0x7c7f825a8c90>\n",
            "Pithon\n",
            "Hello, my name is Pithon and I am 21 years old\n",
            "None\n"
          ]
        }
      ]
    },
    {
      "cell_type": "code",
      "source": [],
      "metadata": {
        "id": "p93m_3g2AbBX"
      },
      "execution_count": null,
      "outputs": []
    }
  ]
}